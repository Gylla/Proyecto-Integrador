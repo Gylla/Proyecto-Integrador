{
  "nbformat": 4,
  "nbformat_minor": 0,
  "metadata": {
    "colab": {
      "provenance": [],
      "include_colab_link": true
    },
    "kernelspec": {
      "name": "python3",
      "display_name": "Python 3"
    },
    "language_info": {
      "name": "python"
    }
  },
  "cells": [
    {
      "cell_type": "markdown",
      "metadata": {
        "id": "view-in-github",
        "colab_type": "text"
      },
      "source": [
        "<a href=\"https://colab.research.google.com/github/Gylla/Proyecto-Integrador/blob/master/Proyecto_Strava.ipynb\" target=\"_parent\"><img src=\"https://colab.research.google.com/assets/colab-badge.svg\" alt=\"Open In Colab\"/></a>"
      ]
    },
    {
      "cell_type": "markdown",
      "source": [
        "# Carga de datos"
      ],
      "metadata": {
        "id": "0M424pFzvL_d"
      }
    },
    {
      "cell_type": "code",
      "execution_count": 1,
      "metadata": {
        "id": "JrFxGoNaogTC"
      },
      "outputs": [],
      "source": [
        "import pandas as pd\n",
        "import numpy as np\n",
        "import matplotlib.pyplot as plt\n",
        "import seaborn as sns"
      ]
    },
    {
      "cell_type": "code",
      "source": [
        "!wget -O strava_data.csv https://raw.githubusercontent.com/Gylla/Proyecto-Integrador/refs/heads/master/Data/strava_data.csv\n",
        "df = pd.read_csv('strava_data.csv', sep=\",\")"
      ],
      "metadata": {
        "colab": {
          "base_uri": "https://localhost:8080/"
        },
        "id": "07qOGQwnr8cm",
        "outputId": "de3190db-5939-4a72-d74c-7f9f269e8998"
      },
      "execution_count": 2,
      "outputs": [
        {
          "output_type": "stream",
          "name": "stdout",
          "text": [
            "--2025-04-24 20:09:02--  https://raw.githubusercontent.com/Gylla/Proyecto-Integrador/refs/heads/master/Data/strava_data.csv\n",
            "Resolving raw.githubusercontent.com (raw.githubusercontent.com)... 185.199.108.133, 185.199.109.133, 185.199.110.133, ...\n",
            "Connecting to raw.githubusercontent.com (raw.githubusercontent.com)|185.199.108.133|:443... connected.\n",
            "HTTP request sent, awaiting response... 200 OK\n",
            "Length: 43773 (43K) [text/plain]\n",
            "Saving to: ‘strava_data.csv’\n",
            "\n",
            "\rstrava_data.csv       0%[                    ]       0  --.-KB/s               \rstrava_data.csv     100%[===================>]  42.75K  --.-KB/s    in 0.01s   \n",
            "\n",
            "2025-04-24 20:09:02 (3.51 MB/s) - ‘strava_data.csv’ saved [43773/43773]\n",
            "\n"
          ]
        }
      ]
    },
    {
      "cell_type": "markdown",
      "source": [
        "# Primeras exploraciones"
      ],
      "metadata": {
        "id": "ImbQWBy3vRoe"
      }
    },
    {
      "cell_type": "markdown",
      "source": [
        "Tareas:\n",
        "\n",
        "*   Explorar las diferentes columnas y conocer los elementos únicos.\n",
        "*   Identificar datos categóricos.\n",
        "*   Determinar que columnas se relacionan entre sí.\n",
        "\n",
        "\n"
      ],
      "metadata": {
        "id": "EpziY1hHvZmn"
      }
    },
    {
      "cell_type": "code",
      "source": [
        "df.head()"
      ],
      "metadata": {
        "colab": {
          "base_uri": "https://localhost:8080/",
          "height": 206
        },
        "id": "8L0c9VDYwgdA",
        "outputId": "362d2a05-cc18-4767-9b8f-ef8004d9229f"
      },
      "execution_count": 3,
      "outputs": [
        {
          "output_type": "execute_result",
          "data": {
            "text/plain": [
              "       start_date_local  type          name  distance  moving_time  \\\n",
              "0  2022-11-18T08:38:29Z  Walk  Morning Walk    3563.3         2122   \n",
              "1  2022-11-17T16:06:02Z  Ride  Evening Ride   30646.5         5742   \n",
              "2  2022-11-15T17:42:54Z  Ride  Evening Ride   34271.7         5653   \n",
              "3  2022-11-12T08:05:43Z  Ride  Morning Ride  181300.0        28762   \n",
              "4  2022-11-10T20:22:58Z  Walk  Evening Walk    4251.3         3305   \n",
              "\n",
              "   total_elevation_gain  average_speed  max_speed  average_heartrate  \\\n",
              "0                  99.0          1.679      5.622              100.8   \n",
              "1                 130.0          5.337     12.612              121.1   \n",
              "2                 118.0          6.063     10.222              121.5   \n",
              "3                 808.0          6.303     14.963              149.3   \n",
              "4                  70.0          1.286      2.009               88.0   \n",
              "\n",
              "   max_heartrate  \n",
              "0          130.0  \n",
              "1          166.0  \n",
              "2          167.0  \n",
              "3          179.0  \n",
              "4          141.0  "
            ],
            "text/html": [
              "\n",
              "  <div id=\"df-ee590812-974c-47b2-bb80-867d0df7858f\" class=\"colab-df-container\">\n",
              "    <div>\n",
              "<style scoped>\n",
              "    .dataframe tbody tr th:only-of-type {\n",
              "        vertical-align: middle;\n",
              "    }\n",
              "\n",
              "    .dataframe tbody tr th {\n",
              "        vertical-align: top;\n",
              "    }\n",
              "\n",
              "    .dataframe thead th {\n",
              "        text-align: right;\n",
              "    }\n",
              "</style>\n",
              "<table border=\"1\" class=\"dataframe\">\n",
              "  <thead>\n",
              "    <tr style=\"text-align: right;\">\n",
              "      <th></th>\n",
              "      <th>start_date_local</th>\n",
              "      <th>type</th>\n",
              "      <th>name</th>\n",
              "      <th>distance</th>\n",
              "      <th>moving_time</th>\n",
              "      <th>total_elevation_gain</th>\n",
              "      <th>average_speed</th>\n",
              "      <th>max_speed</th>\n",
              "      <th>average_heartrate</th>\n",
              "      <th>max_heartrate</th>\n",
              "    </tr>\n",
              "  </thead>\n",
              "  <tbody>\n",
              "    <tr>\n",
              "      <th>0</th>\n",
              "      <td>2022-11-18T08:38:29Z</td>\n",
              "      <td>Walk</td>\n",
              "      <td>Morning Walk</td>\n",
              "      <td>3563.3</td>\n",
              "      <td>2122</td>\n",
              "      <td>99.0</td>\n",
              "      <td>1.679</td>\n",
              "      <td>5.622</td>\n",
              "      <td>100.8</td>\n",
              "      <td>130.0</td>\n",
              "    </tr>\n",
              "    <tr>\n",
              "      <th>1</th>\n",
              "      <td>2022-11-17T16:06:02Z</td>\n",
              "      <td>Ride</td>\n",
              "      <td>Evening Ride</td>\n",
              "      <td>30646.5</td>\n",
              "      <td>5742</td>\n",
              "      <td>130.0</td>\n",
              "      <td>5.337</td>\n",
              "      <td>12.612</td>\n",
              "      <td>121.1</td>\n",
              "      <td>166.0</td>\n",
              "    </tr>\n",
              "    <tr>\n",
              "      <th>2</th>\n",
              "      <td>2022-11-15T17:42:54Z</td>\n",
              "      <td>Ride</td>\n",
              "      <td>Evening Ride</td>\n",
              "      <td>34271.7</td>\n",
              "      <td>5653</td>\n",
              "      <td>118.0</td>\n",
              "      <td>6.063</td>\n",
              "      <td>10.222</td>\n",
              "      <td>121.5</td>\n",
              "      <td>167.0</td>\n",
              "    </tr>\n",
              "    <tr>\n",
              "      <th>3</th>\n",
              "      <td>2022-11-12T08:05:43Z</td>\n",
              "      <td>Ride</td>\n",
              "      <td>Morning Ride</td>\n",
              "      <td>181300.0</td>\n",
              "      <td>28762</td>\n",
              "      <td>808.0</td>\n",
              "      <td>6.303</td>\n",
              "      <td>14.963</td>\n",
              "      <td>149.3</td>\n",
              "      <td>179.0</td>\n",
              "    </tr>\n",
              "    <tr>\n",
              "      <th>4</th>\n",
              "      <td>2022-11-10T20:22:58Z</td>\n",
              "      <td>Walk</td>\n",
              "      <td>Evening Walk</td>\n",
              "      <td>4251.3</td>\n",
              "      <td>3305</td>\n",
              "      <td>70.0</td>\n",
              "      <td>1.286</td>\n",
              "      <td>2.009</td>\n",
              "      <td>88.0</td>\n",
              "      <td>141.0</td>\n",
              "    </tr>\n",
              "  </tbody>\n",
              "</table>\n",
              "</div>\n",
              "    <div class=\"colab-df-buttons\">\n",
              "\n",
              "  <div class=\"colab-df-container\">\n",
              "    <button class=\"colab-df-convert\" onclick=\"convertToInteractive('df-ee590812-974c-47b2-bb80-867d0df7858f')\"\n",
              "            title=\"Convert this dataframe to an interactive table.\"\n",
              "            style=\"display:none;\">\n",
              "\n",
              "  <svg xmlns=\"http://www.w3.org/2000/svg\" height=\"24px\" viewBox=\"0 -960 960 960\">\n",
              "    <path d=\"M120-120v-720h720v720H120Zm60-500h600v-160H180v160Zm220 220h160v-160H400v160Zm0 220h160v-160H400v160ZM180-400h160v-160H180v160Zm440 0h160v-160H620v160ZM180-180h160v-160H180v160Zm440 0h160v-160H620v160Z\"/>\n",
              "  </svg>\n",
              "    </button>\n",
              "\n",
              "  <style>\n",
              "    .colab-df-container {\n",
              "      display:flex;\n",
              "      gap: 12px;\n",
              "    }\n",
              "\n",
              "    .colab-df-convert {\n",
              "      background-color: #E8F0FE;\n",
              "      border: none;\n",
              "      border-radius: 50%;\n",
              "      cursor: pointer;\n",
              "      display: none;\n",
              "      fill: #1967D2;\n",
              "      height: 32px;\n",
              "      padding: 0 0 0 0;\n",
              "      width: 32px;\n",
              "    }\n",
              "\n",
              "    .colab-df-convert:hover {\n",
              "      background-color: #E2EBFA;\n",
              "      box-shadow: 0px 1px 2px rgba(60, 64, 67, 0.3), 0px 1px 3px 1px rgba(60, 64, 67, 0.15);\n",
              "      fill: #174EA6;\n",
              "    }\n",
              "\n",
              "    .colab-df-buttons div {\n",
              "      margin-bottom: 4px;\n",
              "    }\n",
              "\n",
              "    [theme=dark] .colab-df-convert {\n",
              "      background-color: #3B4455;\n",
              "      fill: #D2E3FC;\n",
              "    }\n",
              "\n",
              "    [theme=dark] .colab-df-convert:hover {\n",
              "      background-color: #434B5C;\n",
              "      box-shadow: 0px 1px 3px 1px rgba(0, 0, 0, 0.15);\n",
              "      filter: drop-shadow(0px 1px 2px rgba(0, 0, 0, 0.3));\n",
              "      fill: #FFFFFF;\n",
              "    }\n",
              "  </style>\n",
              "\n",
              "    <script>\n",
              "      const buttonEl =\n",
              "        document.querySelector('#df-ee590812-974c-47b2-bb80-867d0df7858f button.colab-df-convert');\n",
              "      buttonEl.style.display =\n",
              "        google.colab.kernel.accessAllowed ? 'block' : 'none';\n",
              "\n",
              "      async function convertToInteractive(key) {\n",
              "        const element = document.querySelector('#df-ee590812-974c-47b2-bb80-867d0df7858f');\n",
              "        const dataTable =\n",
              "          await google.colab.kernel.invokeFunction('convertToInteractive',\n",
              "                                                    [key], {});\n",
              "        if (!dataTable) return;\n",
              "\n",
              "        const docLinkHtml = 'Like what you see? Visit the ' +\n",
              "          '<a target=\"_blank\" href=https://colab.research.google.com/notebooks/data_table.ipynb>data table notebook</a>'\n",
              "          + ' to learn more about interactive tables.';\n",
              "        element.innerHTML = '';\n",
              "        dataTable['output_type'] = 'display_data';\n",
              "        await google.colab.output.renderOutput(dataTable, element);\n",
              "        const docLink = document.createElement('div');\n",
              "        docLink.innerHTML = docLinkHtml;\n",
              "        element.appendChild(docLink);\n",
              "      }\n",
              "    </script>\n",
              "  </div>\n",
              "\n",
              "\n",
              "<div id=\"df-4cb86a61-9ce7-4a7d-b756-565437d081e3\">\n",
              "  <button class=\"colab-df-quickchart\" onclick=\"quickchart('df-4cb86a61-9ce7-4a7d-b756-565437d081e3')\"\n",
              "            title=\"Suggest charts\"\n",
              "            style=\"display:none;\">\n",
              "\n",
              "<svg xmlns=\"http://www.w3.org/2000/svg\" height=\"24px\"viewBox=\"0 0 24 24\"\n",
              "     width=\"24px\">\n",
              "    <g>\n",
              "        <path d=\"M19 3H5c-1.1 0-2 .9-2 2v14c0 1.1.9 2 2 2h14c1.1 0 2-.9 2-2V5c0-1.1-.9-2-2-2zM9 17H7v-7h2v7zm4 0h-2V7h2v10zm4 0h-2v-4h2v4z\"/>\n",
              "    </g>\n",
              "</svg>\n",
              "  </button>\n",
              "\n",
              "<style>\n",
              "  .colab-df-quickchart {\n",
              "      --bg-color: #E8F0FE;\n",
              "      --fill-color: #1967D2;\n",
              "      --hover-bg-color: #E2EBFA;\n",
              "      --hover-fill-color: #174EA6;\n",
              "      --disabled-fill-color: #AAA;\n",
              "      --disabled-bg-color: #DDD;\n",
              "  }\n",
              "\n",
              "  [theme=dark] .colab-df-quickchart {\n",
              "      --bg-color: #3B4455;\n",
              "      --fill-color: #D2E3FC;\n",
              "      --hover-bg-color: #434B5C;\n",
              "      --hover-fill-color: #FFFFFF;\n",
              "      --disabled-bg-color: #3B4455;\n",
              "      --disabled-fill-color: #666;\n",
              "  }\n",
              "\n",
              "  .colab-df-quickchart {\n",
              "    background-color: var(--bg-color);\n",
              "    border: none;\n",
              "    border-radius: 50%;\n",
              "    cursor: pointer;\n",
              "    display: none;\n",
              "    fill: var(--fill-color);\n",
              "    height: 32px;\n",
              "    padding: 0;\n",
              "    width: 32px;\n",
              "  }\n",
              "\n",
              "  .colab-df-quickchart:hover {\n",
              "    background-color: var(--hover-bg-color);\n",
              "    box-shadow: 0 1px 2px rgba(60, 64, 67, 0.3), 0 1px 3px 1px rgba(60, 64, 67, 0.15);\n",
              "    fill: var(--button-hover-fill-color);\n",
              "  }\n",
              "\n",
              "  .colab-df-quickchart-complete:disabled,\n",
              "  .colab-df-quickchart-complete:disabled:hover {\n",
              "    background-color: var(--disabled-bg-color);\n",
              "    fill: var(--disabled-fill-color);\n",
              "    box-shadow: none;\n",
              "  }\n",
              "\n",
              "  .colab-df-spinner {\n",
              "    border: 2px solid var(--fill-color);\n",
              "    border-color: transparent;\n",
              "    border-bottom-color: var(--fill-color);\n",
              "    animation:\n",
              "      spin 1s steps(1) infinite;\n",
              "  }\n",
              "\n",
              "  @keyframes spin {\n",
              "    0% {\n",
              "      border-color: transparent;\n",
              "      border-bottom-color: var(--fill-color);\n",
              "      border-left-color: var(--fill-color);\n",
              "    }\n",
              "    20% {\n",
              "      border-color: transparent;\n",
              "      border-left-color: var(--fill-color);\n",
              "      border-top-color: var(--fill-color);\n",
              "    }\n",
              "    30% {\n",
              "      border-color: transparent;\n",
              "      border-left-color: var(--fill-color);\n",
              "      border-top-color: var(--fill-color);\n",
              "      border-right-color: var(--fill-color);\n",
              "    }\n",
              "    40% {\n",
              "      border-color: transparent;\n",
              "      border-right-color: var(--fill-color);\n",
              "      border-top-color: var(--fill-color);\n",
              "    }\n",
              "    60% {\n",
              "      border-color: transparent;\n",
              "      border-right-color: var(--fill-color);\n",
              "    }\n",
              "    80% {\n",
              "      border-color: transparent;\n",
              "      border-right-color: var(--fill-color);\n",
              "      border-bottom-color: var(--fill-color);\n",
              "    }\n",
              "    90% {\n",
              "      border-color: transparent;\n",
              "      border-bottom-color: var(--fill-color);\n",
              "    }\n",
              "  }\n",
              "</style>\n",
              "\n",
              "  <script>\n",
              "    async function quickchart(key) {\n",
              "      const quickchartButtonEl =\n",
              "        document.querySelector('#' + key + ' button');\n",
              "      quickchartButtonEl.disabled = true;  // To prevent multiple clicks.\n",
              "      quickchartButtonEl.classList.add('colab-df-spinner');\n",
              "      try {\n",
              "        const charts = await google.colab.kernel.invokeFunction(\n",
              "            'suggestCharts', [key], {});\n",
              "      } catch (error) {\n",
              "        console.error('Error during call to suggestCharts:', error);\n",
              "      }\n",
              "      quickchartButtonEl.classList.remove('colab-df-spinner');\n",
              "      quickchartButtonEl.classList.add('colab-df-quickchart-complete');\n",
              "    }\n",
              "    (() => {\n",
              "      let quickchartButtonEl =\n",
              "        document.querySelector('#df-4cb86a61-9ce7-4a7d-b756-565437d081e3 button');\n",
              "      quickchartButtonEl.style.display =\n",
              "        google.colab.kernel.accessAllowed ? 'block' : 'none';\n",
              "    })();\n",
              "  </script>\n",
              "</div>\n",
              "\n",
              "    </div>\n",
              "  </div>\n"
            ],
            "application/vnd.google.colaboratory.intrinsic+json": {
              "type": "dataframe",
              "variable_name": "df",
              "summary": "{\n  \"name\": \"df\",\n  \"rows\": 544,\n  \"fields\": [\n    {\n      \"column\": \"start_date_local\",\n      \"properties\": {\n        \"dtype\": \"object\",\n        \"num_unique_values\": 471,\n        \"samples\": [\n          \"2022-08-27T15:09:38Z\",\n          \"2022-07-26T18:03:39Z\",\n          \"2022-10-13T19:31:14Z\"\n        ],\n        \"semantic_type\": \"\",\n        \"description\": \"\"\n      }\n    },\n    {\n      \"column\": \"type\",\n      \"properties\": {\n        \"dtype\": \"category\",\n        \"num_unique_values\": 12,\n        \"samples\": [\n          \"WeightTraining\",\n          \"Snowboard\",\n          \"Walk\"\n        ],\n        \"semantic_type\": \"\",\n        \"description\": \"\"\n      }\n    },\n    {\n      \"column\": \"name\",\n      \"properties\": {\n        \"dtype\": \"category\",\n        \"num_unique_values\": 30,\n        \"samples\": [\n          \"Afternoon WeightTraining\",\n          \"Afternoon Kayaking\",\n          \"Night Walk\"\n        ],\n        \"semantic_type\": \"\",\n        \"description\": \"\"\n      }\n    },\n    {\n      \"column\": \"distance\",\n      \"properties\": {\n        \"dtype\": \"number\",\n        \"std\": 37478.98218221307,\n        \"min\": 0.0,\n        \"max\": 240426.0,\n        \"num_unique_values\": 464,\n        \"samples\": [\n          7818.6,\n          12340.0,\n          4297.1\n        ],\n        \"semantic_type\": \"\",\n        \"description\": \"\"\n      }\n    },\n    {\n      \"column\": \"moving_time\",\n      \"properties\": {\n        \"dtype\": \"number\",\n        \"std\": 6987,\n        \"min\": 176,\n        \"max\": 44280,\n        \"num_unique_values\": 464,\n        \"samples\": [\n          5891,\n          2525,\n          2759\n        ],\n        \"semantic_type\": \"\",\n        \"description\": \"\"\n      }\n    },\n    {\n      \"column\": \"total_elevation_gain\",\n      \"properties\": {\n        \"dtype\": \"number\",\n        \"std\": 256.0810399897305,\n        \"min\": 0.0,\n        \"max\": 1905.0,\n        \"num_unique_values\": 291,\n        \"samples\": [\n          66.0,\n          375.0,\n          119.0\n        ],\n        \"semantic_type\": \"\",\n        \"description\": \"\"\n      }\n    },\n    {\n      \"column\": \"average_speed\",\n      \"properties\": {\n        \"dtype\": \"number\",\n        \"std\": 2.2179540810023126,\n        \"min\": 0.0,\n        \"max\": 11.357,\n        \"num_unique_values\": 436,\n        \"samples\": [\n          2.828,\n          1.205,\n          6.312\n        ],\n        \"semantic_type\": \"\",\n        \"description\": \"\"\n      }\n    },\n    {\n      \"column\": \"max_speed\",\n      \"properties\": {\n        \"dtype\": \"number\",\n        \"std\": 5.458273232828573,\n        \"min\": 0.0,\n        \"max\": 31.3,\n        \"num_unique_values\": 325,\n        \"samples\": [\n          1.9,\n          14.013,\n          7.1\n        ],\n        \"semantic_type\": \"\",\n        \"description\": \"\"\n      }\n    },\n    {\n      \"column\": \"average_heartrate\",\n      \"properties\": {\n        \"dtype\": \"number\",\n        \"std\": 24.373668397203023,\n        \"min\": 59.2,\n        \"max\": 175.6,\n        \"num_unique_values\": 344,\n        \"samples\": [\n          157.1,\n          103.7,\n          121.7\n        ],\n        \"semantic_type\": \"\",\n        \"description\": \"\"\n      }\n    },\n    {\n      \"column\": \"max_heartrate\",\n      \"properties\": {\n        \"dtype\": \"number\",\n        \"std\": 29.353526418905528,\n        \"min\": 68.0,\n        \"max\": 245.0,\n        \"num_unique_values\": 104,\n        \"samples\": [\n          169.0,\n          188.0,\n          101.0\n        ],\n        \"semantic_type\": \"\",\n        \"description\": \"\"\n      }\n    }\n  ]\n}"
            }
          },
          "metadata": {},
          "execution_count": 3
        }
      ]
    },
    {
      "cell_type": "code",
      "source": [
        "df.shape"
      ],
      "metadata": {
        "colab": {
          "base_uri": "https://localhost:8080/"
        },
        "id": "SZw3zrE0t7Hx",
        "outputId": "f1e970e7-8ebc-487f-a925-4d10bd9c6137"
      },
      "execution_count": 4,
      "outputs": [
        {
          "output_type": "execute_result",
          "data": {
            "text/plain": [
              "(544, 10)"
            ]
          },
          "metadata": {},
          "execution_count": 4
        }
      ]
    },
    {
      "cell_type": "code",
      "source": [
        "# Análisis de valores únicos por columna\n",
        "print(\"\\n\" + \"=\"*60)\n",
        "print(\"ANÁLISIS DE VALORES ÚNICOS POR COLUMNA\".center(60))\n",
        "print(\"=\"*60 + \"\\n\")\n",
        "\n",
        "for i, columna in enumerate(df.columns, 1):\n",
        "    # Obtener valores únicos\n",
        "    valores_unicos = df[columna].unique()\n",
        "    num_unicos = len(valores_unicos)\n",
        "\n",
        "    # Mostrar información de la columna\n",
        "    print(f\"\\nCOLUMNA {i}: {columna}\".ljust(50) + f\"({num_unicos} valores únicos)\")\n",
        "    print(\"-\"*60)\n",
        "\n",
        "    # Mostrar valores únicos (con formato para listas largas)\n",
        "    if num_unicos <= 10:\n",
        "        print(valores_unicos)\n",
        "    else:\n",
        "        print(f\"Primeros 5 valores: {valores_unicos[:5]}\")\n",
        "        print(f\"Últimos 5 valores: {valores_unicos[-5:]}\")\n",
        "        print(f\"\\nMuestra de valores intermedios: {valores_unicos[5:10]}\" if num_unicos > 10 else \"\")\n",
        "\n",
        "    # Estadísticas adicionales\n",
        "    print(f\"\\nTipo de dato: {df[columna].dtype}\")\n",
        "    if pd.api.types.is_numeric_dtype(df[columna]):\n",
        "        print(f\"Rango: {df[columna].min()} - {df[columna].max()}\")\n",
        "\n",
        "    print(\"=\"*60)\n",
        "\n",
        "print(\"\\n\" + \"ANÁLISIS COMPLETADO\".center(60, \"~\") + \"\\n\")"
      ],
      "metadata": {
        "colab": {
          "base_uri": "https://localhost:8080/"
        },
        "id": "qtl3EDnp0BQO",
        "outputId": "a103eb40-d436-4bc0-cb84-69bc1a4a3952"
      },
      "execution_count": 5,
      "outputs": [
        {
          "output_type": "stream",
          "name": "stdout",
          "text": [
            "\n",
            "============================================================\n",
            "           ANÁLISIS DE VALORES ÚNICOS POR COLUMNA           \n",
            "============================================================\n",
            "\n",
            "\n",
            "COLUMNA 1: start_date_local                      (471 valores únicos)\n",
            "------------------------------------------------------------\n",
            "Primeros 5 valores: ['2022-11-18T08:38:29Z' '2022-11-17T16:06:02Z' '2022-11-15T17:42:54Z'\n",
            " '2022-11-12T08:05:43Z' '2022-11-10T20:22:58Z']\n",
            "Últimos 5 valores: ['2020-08-22T17:11:57Z' '2020-08-16T09:24:57Z' '2020-08-08T11:33:49Z'\n",
            " '2020-08-06T19:09:25Z' '2020-04-13T11:42:10Z']\n",
            "\n",
            "Muestra de valores intermedios: ['2022-11-09T16:24:20Z' '2022-11-08T16:51:57Z' '2022-11-07T14:28:39Z'\n",
            " '2022-11-06T13:04:33Z' '2022-11-05T10:43:44Z']\n",
            "\n",
            "Tipo de dato: object\n",
            "============================================================\n",
            "\n",
            "COLUMNA 2: type                                  (12 valores únicos)\n",
            "------------------------------------------------------------\n",
            "Primeros 5 valores: ['Walk' 'Ride' 'Hike' 'Run' 'Swim']\n",
            "Últimos 5 valores: ['StandUpPaddling' 'EBikeRide' 'Snowboard' 'WeightTraining' 'Workout']\n",
            "\n",
            "Muestra de valores intermedios: ['Surfing' 'Kayaking' 'StandUpPaddling' 'EBikeRide' 'Snowboard']\n",
            "\n",
            "Tipo de dato: object\n",
            "============================================================\n",
            "\n",
            "COLUMNA 3: name                                  (30 valores únicos)\n",
            "------------------------------------------------------------\n",
            "Primeros 5 valores: ['Morning Walk' 'Evening Ride' 'Morning Ride' 'Evening Walk'\n",
            " 'Afternoon Ride']\n",
            "Últimos 5 valores: ['Morning Kayaking' 'Night Run' 'Afternoon WeightTraining'\n",
            " 'Morning Workout' 'Evening Workout']\n",
            "\n",
            "Muestra de valores intermedios: ['Afternoon Hike' 'Afternoon Run' 'Afternoon Walk' 'Afternoon Swim'\n",
            " 'Evening Run']\n",
            "\n",
            "Tipo de dato: object\n",
            "============================================================\n",
            "\n",
            "COLUMNA 4: distance                              (464 valores únicos)\n",
            "------------------------------------------------------------\n",
            "Primeros 5 valores: [  3563.3  30646.5  34271.7 181300.    4251.3]\n",
            "Últimos 5 valores: [ 33421.8 104043.  155344.   21741.4 128058. ]\n",
            "\n",
            "Muestra de valores intermedios: [22213.7 26106.6  6664.6 50679.   7818.6]\n",
            "\n",
            "Tipo de dato: float64\n",
            "Rango: 0.0 - 240426.0\n",
            "============================================================\n",
            "\n",
            "COLUMNA 5: moving_time                           (464 valores únicos)\n",
            "------------------------------------------------------------\n",
            "Primeros 5 valores: [ 2122  5742  5653 28762  3305]\n",
            "Últimos 5 valores: [ 6763 15907 35184  5678 13183]\n",
            "\n",
            "Muestra de valores intermedios: [3718 4875 1250 8435 5891]\n",
            "\n",
            "Tipo de dato: int64\n",
            "Rango: 176 - 44280\n",
            "============================================================\n",
            "\n",
            "COLUMNA 6: total_elevation_gain                  (291 valores únicos)\n",
            "------------------------------------------------------------\n",
            "Primeros 5 valores: [ 99. 130. 118. 808.  70.]\n",
            "Últimos 5 valores: [228.1 429.9 496.9 186.4 491.2]\n",
            "\n",
            "Muestra de valores intermedios: [136. 191.  71. 278. 110.]\n",
            "\n",
            "Tipo de dato: float64\n",
            "Rango: 0.0 - 1905.0\n",
            "============================================================\n",
            "\n",
            "COLUMNA 7: average_speed                         (436 valores únicos)\n",
            "------------------------------------------------------------\n",
            "Primeros 5 valores: [1.679 5.337 6.063 6.303 1.286]\n",
            "Últimos 5 valores: [4.942 6.541 4.415 3.829 9.714]\n",
            "\n",
            "Muestra de valores intermedios: [5.975 5.355 5.332 6.008 1.327]\n",
            "\n",
            "Tipo de dato: float64\n",
            "Rango: 0.0 - 11.357\n",
            "============================================================\n",
            "\n",
            "COLUMNA 8: max_speed                             (325 valores únicos)\n",
            "------------------------------------------------------------\n",
            "Primeros 5 valores: [ 5.622 12.612 10.222 14.963  2.009]\n",
            "Últimos 5 valores: [16.8  11.6  16.3  17.92 31.3 ]\n",
            "\n",
            "Muestra de valores intermedios: [13.664 11.898 14.294 12.335  6.625]\n",
            "\n",
            "Tipo de dato: float64\n",
            "Rango: 0.0 - 31.3\n",
            "============================================================\n",
            "\n",
            "COLUMNA 9: average_heartrate                     (345 valores únicos)\n",
            "------------------------------------------------------------\n",
            "Primeros 5 valores: [100.8 121.1 121.5 149.3  88. ]\n",
            "Últimos 5 valores: [125.6 167.6  59.2  92.   66.2]\n",
            "\n",
            "Muestra de valores intermedios: [129.6 149.  127.8  80.  117.7]\n",
            "\n",
            "Tipo de dato: float64\n",
            "Rango: 59.2 - 175.6\n",
            "============================================================\n",
            "\n",
            "COLUMNA 10: max_heartrate                        (105 valores únicos)\n",
            "------------------------------------------------------------\n",
            "Primeros 5 valores: [130. 166. 167. 179. 141.]\n",
            "Últimos 5 valores: [ 93. 150.  98.  68.  75.]\n",
            "\n",
            "Muestra de valores intermedios: [178. 177. 174. 132.  97.]\n",
            "\n",
            "Tipo de dato: float64\n",
            "Rango: 68.0 - 245.0\n",
            "============================================================\n",
            "\n",
            "~~~~~~~~~~~~~~~~~~~~ANÁLISIS COMPLETADO~~~~~~~~~~~~~~~~~~~~~\n",
            "\n"
          ]
        }
      ]
    },
    {
      "cell_type": "code",
      "source": [
        "df.max_speed.unique()"
      ],
      "metadata": {
        "colab": {
          "base_uri": "https://localhost:8080/"
        },
        "id": "W5wM8mGYa7z_",
        "outputId": "5d709d95-adb9-44e0-f2e7-0032858d07e5"
      },
      "execution_count": 8,
      "outputs": [
        {
          "output_type": "execute_result",
          "data": {
            "text/plain": [
              "array([ 5.622, 12.612, 10.222, 14.963,  2.009, 13.664, 11.898, 14.294,\n",
              "       12.335,  6.625, 10.722,  3.215,  3.376, 12.326,  5.205, 13.25 ,\n",
              "        4.803, 11.458, 10.87 , 17.746,  3.154,  6.004,  2.846,  3.744,\n",
              "       13.158,  5.405, 17.25 ,  0.635,  2.488, 13.552,  8.936, 16.623,\n",
              "       10.09 ,  9.809,  2.864,  3.318,  2.563, 15.741, 14.884,  2.926,\n",
              "        2.98 ,  6.223,  3.922,  4.538, 14.388, 13.174,  2.622,  2.52 ,\n",
              "       14.706, 13.402,  4.251,  4.17 ,  9.667,  2.586,  4.572, 12.333,\n",
              "       18.076,  2.423, 13.906, 16.602,  4.998, 14.146, 10.508, 11.082,\n",
              "       10.142, 11.638,  3.934, 15.114,  8.62 ,  3.661, 13.308, 13.788,\n",
              "        2.388,  2.63 , 12.708, 10.717,  9.331,  8.294,  3.996, 12.302,\n",
              "        3.423,  2.202,  4.19 ,  3.7  ,  3.724,  3.14 , 13.181, 10.933,\n",
              "       10.367, 13.002, 11.01 , 13.524,  3.737,  3.165,  4.315, 12.187,\n",
              "       14.66 , 16.268, 13.962,  2.581, 11.918,  3.242, 13.132, 16.458,\n",
              "        2.62 ,  1.8  , 18.96 ,  2.123, 13.628, 16.408, 14.013, 14.655,\n",
              "        9.542,  9.228,  2.454, 12.547, 16.752, 13.245,  2.433, 12.822,\n",
              "       12.216, 12.664, 10.487, 13.417,  4.06 ,  2.726,  2.706,  9.924,\n",
              "       12.594,  5.7  ,  2.752, 13.556, 14.104,  4.064, 13.915,  2.266,\n",
              "        9.056,  3.219, 11.314, 15.478,  3.959, 12.43 ,  2.6  , 16.084,\n",
              "        3.53 ,  2.514,  3.894, 10.205,  3.633,  8.864,  7.499, 13.052,\n",
              "        8.233, 12.388,  4.623, 13.592, 10.566,  6.95 , 15.16 ,  3.658,\n",
              "        6.068,  2.546,  8.708,  2.712, 12.032,  9.865, 21.186, 16.958,\n",
              "        2.132,  3.101, 17.922, 16.44 , 16.798,  3.992,  2.248, 10.313,\n",
              "        2.239,  0.   ,  2.219,  2.976,  2.412,  2.517,  3.226,  3.368,\n",
              "        5.059,  3.046, 13.452, 10.43 , 12.426,  2.912, 12.687,  2.986,\n",
              "       14.238, 13.156,  2.991, 10.738,  4.66 ,  2.41 ,  3.354, 11.173,\n",
              "        4.276,  7.234,  4.23 ,  2.93 , 14.636,  8.536, 18.004, 14.428,\n",
              "       12.72 , 10.308, 12.29 , 12.792,  4.508, 12.692,  7.823, 13.208,\n",
              "       13.972,  8.625, 13.116, 15.81 , 12.576, 14.006, 10.5  , 10.6  ,\n",
              "        3.6  , 10.7  , 11.8  , 15.3  ,  2.3  ,  4.4  ,  3.2  ,  3.5  ,\n",
              "        3.3  ,  6.4  ,  1.9  ,  4.   ,  5.1  ,  2.4  ,  4.7  ,  3.   ,\n",
              "        2.9  ,  2.7  ,  3.1  ,  2.   ,  2.1  ,  4.1  ,  2.2  ,  3.8  ,\n",
              "        7.1  , 13.3  , 14.9  , 11.5  , 13.5  , 16.1  ,  9.5  , 16.4  ,\n",
              "        9.4  , 12.8  , 11.3  , 18.1  , 12.6  , 14.3  , 16.6  , 11.7  ,\n",
              "       17.5  ,  3.4  , 15.4  , 13.   ,  8.9  , 16.   , 13.1  ,  4.5  ,\n",
              "        3.9  ,  9.   , 12.2  , 16.5  ,  1.   , 11.1  , 13.4  , 14.5  ,\n",
              "       10.   , 15.6  ,  9.3  , 14.8  ,  7.4  , 15.2  ,  4.3  ,  2.5  ,\n",
              "       13.2  , 14.2  ,  8.4  , 14.1  , 15.8  , 16.7  , 12.3  , 12.1  ,\n",
              "       15.   , 12.5  , 16.9  ,  6.2  , 17.1  , 14.   , 13.6  ,  8.   ,\n",
              "       14.7  ,  4.2  ,  4.9  ,  2.8  , 11.9  , 12.9  , 13.8  ,  6.   ,\n",
              "       15.5  ,  8.2  ,  9.9  , 14.6  ,  5.   , 15.7  , 17.7  , 16.2  ,\n",
              "       16.8  , 11.6  , 16.3  , 17.92 , 31.3  ])"
            ]
          },
          "metadata": {},
          "execution_count": 8
        }
      ]
    },
    {
      "cell_type": "markdown",
      "source": [],
      "metadata": {
        "id": "Ynfv9LmnbWmQ"
      }
    },
    {
      "cell_type": "markdown",
      "source": [
        "# Limpieza"
      ],
      "metadata": {
        "id": "wKB7aeI-bX15"
      }
    },
    {
      "cell_type": "markdown",
      "source": [
        "verificar datos porcentaje de datos faltantes"
      ],
      "metadata": {
        "id": "w96dw6VFbcHZ"
      }
    },
    {
      "cell_type": "code",
      "source": [
        "sns.heatmap(df.isna(), cbar=False, cmap='viridis')\n",
        "plt.show()"
      ],
      "metadata": {
        "colab": {
          "base_uri": "https://localhost:8080/",
          "height": 563
        },
        "id": "VtRTq7aBuV1B",
        "outputId": "3ce9c905-ebdf-4fce-ec3d-48ea5248c463"
      },
      "execution_count": 9,
      "outputs": [
        {
          "output_type": "display_data",
          "data": {
            "text/plain": [
              "<Figure size 640x480 with 1 Axes>"
            ],
            "image/png": "[encoded data removed]"
          },
          "metadata": {}
        }
      ]
    },
    {
      "cell_type": "code",
      "source": [
        "# Crear una lista de tuplas con los resultados\n",
        "results = []\n",
        "for col in df.columns:\n",
        "    pct_missing = np.mean(df[col].isnull()) * 100\n",
        "    results.append((col, round(pct_missing, 2)))\n",
        "\n",
        "# Convertir a DataFrame para mejor formato\n",
        "results_df = pd.DataFrame(results, columns=['Columna', '% Faltante'])\n",
        "\n",
        "# Imprimir como tabla Markdown\n",
        "print(results_df.to_markdown(index=False, tablefmt=\"github\", stralign=\"left\", numalign=\"right\"))"
      ],
      "metadata": {
        "id": "SLDASwwBuchq",
        "outputId": "6cfb7418-fd3e-4a31-a55a-be8960742bb5",
        "colab": {
          "base_uri": "https://localhost:8080/"
        }
      },
      "execution_count": 7,
      "outputs": [
        {
          "output_type": "stream",
          "name": "stdout",
          "text": [
            "| Columna              |   % Faltante |\n",
            "|----------------------|--------------|\n",
            "| start_date_local     |            0 |\n",
            "| type                 |            0 |\n",
            "| name                 |            0 |\n",
            "| distance             |            0 |\n",
            "| moving_time          |            0 |\n",
            "| total_elevation_gain |            0 |\n",
            "| average_speed        |            0 |\n",
            "| max_speed            |            0 |\n",
            "| average_heartrate    |        10.11 |\n",
            "| max_heartrate        |        10.11 |\n"
          ]
        }
      ]
    },
    {
      "cell_type": "code",
      "source": [
        "# aun no soy pro"
      ],
      "metadata": {
        "id": "ev8YHFg92klT"
      },
      "execution_count": null,
      "outputs": []
    }
  ]
}