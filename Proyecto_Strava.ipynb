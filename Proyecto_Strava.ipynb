{
  "cells": [
    {
      "cell_type": "markdown",
      "metadata": {
        "id": "view-in-github",
        "colab_type": "text"
      },
      "source": [
        "<a href=\"https://colab.research.google.com/github/Gylla/Proyecto-Integrador/blob/master/Proyecto_Strava.ipynb\" target=\"_parent\"><img src=\"https://colab.research.google.com/assets/colab-badge.svg\" alt=\"Open In Colab\"/></a>"
      ]
    },
    {
      "cell_type": "markdown",
      "metadata": {
        "id": "0jL_dQS-I6xU"
      },
      "source": [
        "## Identificación de patrones colectivos en datos públicos de Strava mediante análisis estadístico y dashboards interactivos\n",
        "**Objetivo General**\n",
        "Identificar patrones colectivos en un conjunto de datos públicos de Strava mediante técnicas de análisis estadístico y presentarlos en dashboards interactivos reproducibles."
      ]
    },
    {
      "cell_type": "markdown",
      "metadata": {
        "id": "QYwrfbqsI6xX"
      },
      "source": [
        "## ⚙️ Configuración Inicial\n",
        "Instalación de librerías y preparación del entorno de análisis."
      ]
    },
    {
      "cell_type": "code",
      "execution_count": 7,
      "metadata": {
        "id": "FIaSBYZ_I6xY"
      },
      "outputs": [],
      "source": [
        "# importar bibliotecas\n",
        "import pandas as pd\n",
        "import numpy as np\n",
        "import matplotlib.pyplot as plt\n",
        "import seaborn as sns\n",
        "from IPython.display import display, Markdown\n",
        "from matplotlib.gridspec import GridSpec\n",
        "\n",
        "# configuración del entorno"
      ]
    },
    {
      "cell_type": "markdown",
      "metadata": {
        "id": "0M424pFzvL_d"
      },
      "source": [
        "## Carga del Dataset\n",
        "Descarga e importación del conjunto de datos desde repositorio remoto."
      ]
    },
    {
      "cell_type": "code",
      "execution_count": 12,
      "metadata": {
        "id": "07qOGQwnr8cm"
      },
      "outputs": [],
      "source": [
        "!wget --quiet -O strava_data.csv https://raw.githubusercontent.com/Gylla/Proyecto-Integrador/refs/heads/master/Data/strava_data.csv\n",
        "df = pd.read_csv('strava_data.csv')"
      ]
    },
    {
      "cell_type": "markdown",
      "metadata": {
        "id": "ImbQWBy3vRoe"
      },
      "source": [
        "## Exploración Inicial\n",
        "Revisión general del tamaño del dataset, tipos de variables y primeros registros. Se debe reflejar la justificación del proyecto."
      ]
    },
    {
      "cell_type": "markdown",
      "metadata": {
        "id": "EpziY1hHvZmn"
      },
      "source": [
        "Tareas:\n",
        "\n",
        "*   Explorar las diferentes columnas y conocer los elementos únicos.\n",
        "*   Identificar datos categóricos.\n",
        "*   Determinar que columnas se relacionan entre sí.\n",
        "\n",
        "\n"
      ]
    },
    {
      "cell_type": "code",
      "execution_count": null,
      "metadata": {
        "colab": {
          "base_uri": "https://localhost:8080/",
          "height": 206
        },
        "id": "8L0c9VDYwgdA",
        "outputId": "fcc6616a-b688-4f3d-9d0f-1c4d10505624"
      },
      "outputs": [
        {
          "data": {
            "application/vnd.google.colaboratory.intrinsic+json": {
              "summary": "{\n  \"name\": \"df\",\n  \"rows\": 544,\n  \"fields\": [\n    {\n      \"column\": \"start_date_local\",\n      \"properties\": {\n        \"dtype\": \"object\",\n        \"num_unique_values\": 471,\n        \"samples\": [\n          \"2022-08-27T15:09:38Z\",\n          \"2022-07-26T18:03:39Z\",\n          \"2022-10-13T19:31:14Z\"\n        ],\n        \"semantic_type\": \"\",\n        \"description\": \"\"\n      }\n    },\n    {\n      \"column\": \"type\",\n      \"properties\": {\n        \"dtype\": \"category\",\n        \"num_unique_values\": 12,\n        \"samples\": [\n          \"WeightTraining\",\n          \"Snowboard\",\n          \"Walk\"\n        ],\n        \"semantic_type\": \"\",\n        \"description\": \"\"\n      }\n    },\n    {\n      \"column\": \"name\",\n      \"properties\": {\n        \"dtype\": \"category\",\n        \"num_unique_values\": 30,\n        \"samples\": [\n          \"Afternoon WeightTraining\",\n          \"Afternoon Kayaking\",\n          \"Night Walk\"\n        ],\n        \"semantic_type\": \"\",\n        \"description\": \"\"\n      }\n    },\n    {\n      \"column\": \"distance\",\n      \"properties\": {\n        \"dtype\": \"number\",\n        \"std\": 37478.98218221307,\n        \"min\": 0.0,\n        \"max\": 240426.0,\n        \"num_unique_values\": 464,\n        \"samples\": [\n          7818.6,\n          12340.0,\n          4297.1\n        ],\n        \"semantic_type\": \"\",\n        \"description\": \"\"\n      }\n    },\n    {\n      \"column\": \"moving_time\",\n      \"properties\": {\n        \"dtype\": \"number\",\n        \"std\": 6987,\n        \"min\": 176,\n        \"max\": 44280,\n        \"num_unique_values\": 464,\n        \"samples\": [\n          5891,\n          2525,\n          2759\n        ],\n        \"semantic_type\": \"\",\n        \"description\": \"\"\n      }\n    },\n    {\n      \"column\": \"total_elevation_gain\",\n      \"properties\": {\n        \"dtype\": \"number\",\n        \"std\": 256.0810399897305,\n        \"min\": 0.0,\n        \"max\": 1905.0,\n        \"num_unique_values\": 291,\n        \"samples\": [\n          66.0,\n          375.0,\n          119.0\n        ],\n        \"semantic_type\": \"\",\n        \"description\": \"\"\n      }\n    },\n    {\n      \"column\": \"average_speed\",\n      \"properties\": {\n        \"dtype\": \"number\",\n        \"std\": 2.2179540810023126,\n        \"min\": 0.0,\n        \"max\": 11.357,\n        \"num_unique_values\": 436,\n        \"samples\": [\n          2.828,\n          1.205,\n          6.312\n        ],\n        \"semantic_type\": \"\",\n        \"description\": \"\"\n      }\n    },\n    {\n      \"column\": \"max_speed\",\n      \"properties\": {\n        \"dtype\": \"number\",\n        \"std\": 5.458273232828573,\n        \"min\": 0.0,\n        \"max\": 31.3,\n        \"num_unique_values\": 325,\n        \"samples\": [\n          1.9,\n          14.013,\n          7.1\n        ],\n        \"semantic_type\": \"\",\n        \"description\": \"\"\n      }\n    },\n    {\n      \"column\": \"average_heartrate\",\n      \"properties\": {\n        \"dtype\": \"number\",\n        \"std\": 24.373668397203023,\n        \"min\": 59.2,\n        \"max\": 175.6,\n        \"num_unique_values\": 344,\n        \"samples\": [\n          157.1,\n          103.7,\n          121.7\n        ],\n        \"semantic_type\": \"\",\n        \"description\": \"\"\n      }\n    },\n    {\n      \"column\": \"max_heartrate\",\n      \"properties\": {\n        \"dtype\": \"number\",\n        \"std\": 29.353526418905528,\n        \"min\": 68.0,\n        \"max\": 245.0,\n        \"num_unique_values\": 104,\n        \"samples\": [\n          169.0,\n          188.0,\n          101.0\n        ],\n        \"semantic_type\": \"\",\n        \"description\": \"\"\n      }\n    }\n  ]\n}",
              "type": "dataframe",
              "variable_name": "df"
            },
            "text/html": [
              "\n",
              "  <div id=\"df-7444f88c-f3c4-4874-8d11-a02b13f42ddf\" class=\"colab-df-container\">\n",
              "    <div>\n",
              "<style scoped>\n",
              "    .dataframe tbody tr th:only-of-type {\n",
              "        vertical-align: middle;\n",
              "    }\n",
              "\n",
              "    .dataframe tbody tr th {\n",
              "        vertical-align: top;\n",
              "    }\n",
              "\n",
              "    .dataframe thead th {\n",
              "        text-align: right;\n",
              "    }\n",
              "</style>\n",
              "<table border=\"1\" class=\"dataframe\">\n",
              "  <thead>\n",
              "    <tr style=\"text-align: right;\">\n",
              "      <th></th>\n",
              "      <th>start_date_local</th>\n",
              "      <th>type</th>\n",
              "      <th>name</th>\n",
              "      <th>distance</th>\n",
              "      <th>moving_time</th>\n",
              "      <th>total_elevation_gain</th>\n",
              "      <th>average_speed</th>\n",
              "      <th>max_speed</th>\n",
              "      <th>average_heartrate</th>\n",
              "      <th>max_heartrate</th>\n",
              "    </tr>\n",
              "  </thead>\n",
              "  <tbody>\n",
              "    <tr>\n",
              "      <th>0</th>\n",
              "      <td>2022-11-18T08:38:29Z</td>\n",
              "      <td>Walk</td>\n",
              "      <td>Morning Walk</td>\n",
              "      <td>3563.3</td>\n",
              "      <td>2122</td>\n",
              "      <td>99.0</td>\n",
              "      <td>1.679</td>\n",
              "      <td>5.622</td>\n",
              "      <td>100.8</td>\n",
              "      <td>130.0</td>\n",
              "    </tr>\n",
              "    <tr>\n",
              "      <th>1</th>\n",
              "      <td>2022-11-17T16:06:02Z</td>\n",
              "      <td>Ride</td>\n",
              "      <td>Evening Ride</td>\n",
              "      <td>30646.5</td>\n",
              "      <td>5742</td>\n",
              "      <td>130.0</td>\n",
              "      <td>5.337</td>\n",
              "      <td>12.612</td>\n",
              "      <td>121.1</td>\n",
              "      <td>166.0</td>\n",
              "    </tr>\n",
              "    <tr>\n",
              "      <th>2</th>\n",
              "      <td>2022-11-15T17:42:54Z</td>\n",
              "      <td>Ride</td>\n",
              "      <td>Evening Ride</td>\n",
              "      <td>34271.7</td>\n",
              "      <td>5653</td>\n",
              "      <td>118.0</td>\n",
              "      <td>6.063</td>\n",
              "      <td>10.222</td>\n",
              "      <td>121.5</td>\n",
              "      <td>167.0</td>\n",
              "    </tr>\n",
              "    <tr>\n",
              "      <th>3</th>\n",
              "      <td>2022-11-12T08:05:43Z</td>\n",
              "      <td>Ride</td>\n",
              "      <td>Morning Ride</td>\n",
              "      <td>181300.0</td>\n",
              "      <td>28762</td>\n",
              "      <td>808.0</td>\n",
              "      <td>6.303</td>\n",
              "      <td>14.963</td>\n",
              "      <td>149.3</td>\n",
              "      <td>179.0</td>\n",
              "    </tr>\n",
              "    <tr>\n",
              "      <th>4</th>\n",
              "      <td>2022-11-10T20:22:58Z</td>\n",
              "      <td>Walk</td>\n",
              "      <td>Evening Walk</td>\n",
              "      <td>4251.3</td>\n",
              "      <td>3305</td>\n",
              "      <td>70.0</td>\n",
              "      <td>1.286</td>\n",
              "      <td>2.009</td>\n",
              "      <td>88.0</td>\n",
              "      <td>141.0</td>\n",
              "    </tr>\n",
              "  </tbody>\n",
              "</table>\n",
              "</div>\n",
              "    <div class=\"colab-df-buttons\">\n",
              "\n",
              "  <div class=\"colab-df-container\">\n",
              "    <button class=\"colab-df-convert\" onclick=\"convertToInteractive('df-7444f88c-f3c4-4874-8d11-a02b13f42ddf')\"\n",
              "            title=\"Convert this dataframe to an interactive table.\"\n",
              "            style=\"display:none;\">\n",
              "\n",
              "  <svg xmlns=\"http://www.w3.org/2000/svg\" height=\"24px\" viewBox=\"0 -960 960 960\">\n",
              "    <path d=\"M120-120v-720h720v720H120Zm60-500h600v-160H180v160Zm220 220h160v-160H400v160Zm0 220h160v-160H400v160ZM180-400h160v-160H180v160Zm440 0h160v-160H620v160ZM180-180h160v-160H180v160Zm440 0h160v-160H620v160Z\"/>\n",
              "  </svg>\n",
              "    </button>\n",
              "\n",
              "  <style>\n",
              "    .colab-df-container {\n",
              "      display:flex;\n",
              "      gap: 12px;\n",
              "    }\n",
              "\n",
              "    .colab-df-convert {\n",
              "      background-color: #E8F0FE;\n",
              "      border: none;\n",
              "      border-radius: 50%;\n",
              "      cursor: pointer;\n",
              "      display: none;\n",
              "      fill: #1967D2;\n",
              "      height: 32px;\n",
              "      padding: 0 0 0 0;\n",
              "      width: 32px;\n",
              "    }\n",
              "\n",
              "    .colab-df-convert:hover {\n",
              "      background-color: #E2EBFA;\n",
              "      box-shadow: 0px 1px 2px rgba(60, 64, 67, 0.3), 0px 1px 3px 1px rgba(60, 64, 67, 0.15);\n",
              "      fill: #174EA6;\n",
              "    }\n",
              "\n",
              "    .colab-df-buttons div {\n",
              "      margin-bottom: 4px;\n",
              "    }\n",
              "\n",
              "    [theme=dark] .colab-df-convert {\n",
              "      background-color: #3B4455;\n",
              "      fill: #D2E3FC;\n",
              "    }\n",
              "\n",
              "    [theme=dark] .colab-df-convert:hover {\n",
              "      background-color: #434B5C;\n",
              "      box-shadow: 0px 1px 3px 1px rgba(0, 0, 0, 0.15);\n",
              "      filter: drop-shadow(0px 1px 2px rgba(0, 0, 0, 0.3));\n",
              "      fill: #FFFFFF;\n",
              "    }\n",
              "  </style>\n",
              "\n",
              "    <script>\n",
              "      const buttonEl =\n",
              "        document.querySelector('#df-7444f88c-f3c4-4874-8d11-a02b13f42ddf button.colab-df-convert');\n",
              "      buttonEl.style.display =\n",
              "        google.colab.kernel.accessAllowed ? 'block' : 'none';\n",
              "\n",
              "      async function convertToInteractive(key) {\n",
              "        const element = document.querySelector('#df-7444f88c-f3c4-4874-8d11-a02b13f42ddf');\n",
              "        const dataTable =\n",
              "          await google.colab.kernel.invokeFunction('convertToInteractive',\n",
              "                                                    [key], {});\n",
              "        if (!dataTable) return;\n",
              "\n",
              "        const docLinkHtml = 'Like what you see? Visit the ' +\n",
              "          '<a target=\"_blank\" href=https://colab.research.google.com/notebooks/data_table.ipynb>data table notebook</a>'\n",
              "          + ' to learn more about interactive tables.';\n",
              "        element.innerHTML = '';\n",
              "        dataTable['output_type'] = 'display_data';\n",
              "        await google.colab.output.renderOutput(dataTable, element);\n",
              "        const docLink = document.createElement('div');\n",
              "        docLink.innerHTML = docLinkHtml;\n",
              "        element.appendChild(docLink);\n",
              "      }\n",
              "    </script>\n",
              "  </div>\n",
              "\n",
              "\n",
              "    <div id=\"df-0bf0f3ef-9979-4793-9480-70edfacc35a1\">\n",
              "      <button class=\"colab-df-quickchart\" onclick=\"quickchart('df-0bf0f3ef-9979-4793-9480-70edfacc35a1')\"\n",
              "                title=\"Suggest charts\"\n",
              "                style=\"display:none;\">\n",
              "\n",
              "<svg xmlns=\"http://www.w3.org/2000/svg\" height=\"24px\"viewBox=\"0 0 24 24\"\n",
              "     width=\"24px\">\n",
              "    <g>\n",
              "        <path d=\"M19 3H5c-1.1 0-2 .9-2 2v14c0 1.1.9 2 2 2h14c1.1 0 2-.9 2-2V5c0-1.1-.9-2-2-2zM9 17H7v-7h2v7zm4 0h-2V7h2v10zm4 0h-2v-4h2v4z\"/>\n",
              "    </g>\n",
              "</svg>\n",
              "      </button>\n",
              "\n",
              "<style>\n",
              "  .colab-df-quickchart {\n",
              "      --bg-color: #E8F0FE;\n",
              "      --fill-color: #1967D2;\n",
              "      --hover-bg-color: #E2EBFA;\n",
              "      --hover-fill-color: #174EA6;\n",
              "      --disabled-fill-color: #AAA;\n",
              "      --disabled-bg-color: #DDD;\n",
              "  }\n",
              "\n",
              "  [theme=dark] .colab-df-quickchart {\n",
              "      --bg-color: #3B4455;\n",
              "      --fill-color: #D2E3FC;\n",
              "      --hover-bg-color: #434B5C;\n",
              "      --hover-fill-color: #FFFFFF;\n",
              "      --disabled-bg-color: #3B4455;\n",
              "      --disabled-fill-color: #666;\n",
              "  }\n",
              "\n",
              "  .colab-df-quickchart {\n",
              "    background-color: var(--bg-color);\n",
              "    border: none;\n",
              "    border-radius: 50%;\n",
              "    cursor: pointer;\n",
              "    display: none;\n",
              "    fill: var(--fill-color);\n",
              "    height: 32px;\n",
              "    padding: 0;\n",
              "    width: 32px;\n",
              "  }\n",
              "\n",
              "  .colab-df-quickchart:hover {\n",
              "    background-color: var(--hover-bg-color);\n",
              "    box-shadow: 0 1px 2px rgba(60, 64, 67, 0.3), 0 1px 3px 1px rgba(60, 64, 67, 0.15);\n",
              "    fill: var(--button-hover-fill-color);\n",
              "  }\n",
              "\n",
              "  .colab-df-quickchart-complete:disabled,\n",
              "  .colab-df-quickchart-complete:disabled:hover {\n",
              "    background-color: var(--disabled-bg-color);\n",
              "    fill: var(--disabled-fill-color);\n",
              "    box-shadow: none;\n",
              "  }\n",
              "\n",
              "  .colab-df-spinner {\n",
              "    border: 2px solid var(--fill-color);\n",
              "    border-color: transparent;\n",
              "    border-bottom-color: var(--fill-color);\n",
              "    animation:\n",
              "      spin 1s steps(1) infinite;\n",
              "  }\n",
              "\n",
              "  @keyframes spin {\n",
              "    0% {\n",
              "      border-color: transparent;\n",
              "      border-bottom-color: var(--fill-color);\n",
              "      border-left-color: var(--fill-color);\n",
              "    }\n",
              "    20% {\n",
              "      border-color: transparent;\n",
              "      border-left-color: var(--fill-color);\n",
              "      border-top-color: var(--fill-color);\n",
              "    }\n",
              "    30% {\n",
              "      border-color: transparent;\n",
              "      border-left-color: var(--fill-color);\n",
              "      border-top-color: var(--fill-color);\n",
              "      border-right-color: var(--fill-color);\n",
              "    }\n",
              "    40% {\n",
              "      border-color: transparent;\n",
              "      border-right-color: var(--fill-color);\n",
              "      border-top-color: var(--fill-color);\n",
              "    }\n",
              "    60% {\n",
              "      border-color: transparent;\n",
              "      border-right-color: var(--fill-color);\n",
              "    }\n",
              "    80% {\n",
              "      border-color: transparent;\n",
              "      border-right-color: var(--fill-color);\n",
              "      border-bottom-color: var(--fill-color);\n",
              "    }\n",
              "    90% {\n",
              "      border-color: transparent;\n",
              "      border-bottom-color: var(--fill-color);\n",
              "    }\n",
              "  }\n",
              "</style>\n",
              "\n",
              "      <script>\n",
              "        async function quickchart(key) {\n",
              "          const quickchartButtonEl =\n",
              "            document.querySelector('#' + key + ' button');\n",
              "          quickchartButtonEl.disabled = true;  // To prevent multiple clicks.\n",
              "          quickchartButtonEl.classList.add('colab-df-spinner');\n",
              "          try {\n",
              "            const charts = await google.colab.kernel.invokeFunction(\n",
              "                'suggestCharts', [key], {});\n",
              "          } catch (error) {\n",
              "            console.error('Error during call to suggestCharts:', error);\n",
              "          }\n",
              "          quickchartButtonEl.classList.remove('colab-df-spinner');\n",
              "          quickchartButtonEl.classList.add('colab-df-quickchart-complete');\n",
              "        }\n",
              "        (() => {\n",
              "          let quickchartButtonEl =\n",
              "            document.querySelector('#df-0bf0f3ef-9979-4793-9480-70edfacc35a1 button');\n",
              "          quickchartButtonEl.style.display =\n",
              "            google.colab.kernel.accessAllowed ? 'block' : 'none';\n",
              "        })();\n",
              "      </script>\n",
              "    </div>\n",
              "\n",
              "    </div>\n",
              "  </div>\n"
            ],
            "text/plain": [
              "       start_date_local  type          name  distance  moving_time  \\\n",
              "0  2022-11-18T08:38:29Z  Walk  Morning Walk    3563.3         2122   \n",
              "1  2022-11-17T16:06:02Z  Ride  Evening Ride   30646.5         5742   \n",
              "2  2022-11-15T17:42:54Z  Ride  Evening Ride   34271.7         5653   \n",
              "3  2022-11-12T08:05:43Z  Ride  Morning Ride  181300.0        28762   \n",
              "4  2022-11-10T20:22:58Z  Walk  Evening Walk    4251.3         3305   \n",
              "\n",
              "   total_elevation_gain  average_speed  max_speed  average_heartrate  \\\n",
              "0                  99.0          1.679      5.622              100.8   \n",
              "1                 130.0          5.337     12.612              121.1   \n",
              "2                 118.0          6.063     10.222              121.5   \n",
              "3                 808.0          6.303     14.963              149.3   \n",
              "4                  70.0          1.286      2.009               88.0   \n",
              "\n",
              "   max_heartrate  \n",
              "0          130.0  \n",
              "1          166.0  \n",
              "2          167.0  \n",
              "3          179.0  \n",
              "4          141.0  "
            ]
          },
          "execution_count": 10,
          "metadata": {},
          "output_type": "execute_result"
        }
      ],
      "source": [
        "df.head()"
      ]
    },
    {
      "cell_type": "code",
      "execution_count": null,
      "metadata": {
        "colab": {
          "base_uri": "https://localhost:8080/"
        },
        "id": "SZw3zrE0t7Hx",
        "outputId": "9dde4fc4-4233-45bd-ba3a-aa95a3494dd8"
      },
      "outputs": [
        {
          "data": {
            "text/plain": [
              "(544, 10)"
            ]
          },
          "execution_count": 11,
          "metadata": {},
          "output_type": "execute_result"
        }
      ],
      "source": [
        "df.shape"
      ]
    },
    {
      "cell_type": "markdown",
      "source": [
        "## Fases CRISP-DM\n",
        "CRISP-DM (Cross-Industry Standard Process for Data Mining) es una metodología estructurada en seis fases para organizar proyectos de análisis de datos de forma sistemática y reproducible: Que aplicaremos para guiar de forma ordenada el análisis de nuestras 544 actividades de Strava, cubriendo desde la definición de objetivos y preguntas clave, la exploración y limpieza de datos (unidades, nulos, outliers), el modelado estadístico y visualizaciones, hasta la validación de resultados y el despliegue de dashboards interactivos reproducibles con Python y Power BI."
      ],
      "metadata": {
        "id": "NtzUChIyM7_e"
      }
    },
    {
      "cell_type": "markdown",
      "source": [
        "## 1. Comprensión del Negocio\n",
        "\n",
        "- **Contexto:** 544 actividades Strava anónimas (11 modalidades), sin visión agregada.  \n",
        "- **Objetivo:** Identificar patrones colectivos de velocidad, distancia y FC.  \n",
        "- **Stakeholders:** Investigadores, entrenadores y equipos de producto.  \n",
        "- **Preguntas clave:**  \n",
        "  - ¿Velocidad media por modalidad?  \n",
        "  - ¿Rangos de FC más frecuentes?  \n",
        "  - ¿Patrones temporales?  \n",
        "- **Éxito:** Dashboard interactivo y análisis reproducible."
      ],
      "metadata": {
        "id": "dPjxuw18R96E"
      }
    },
    {
      "cell_type": "markdown",
      "source": [
        "## 2. Comprensión de los Datos\n",
        "Estructura del dataset, tipos de variables, valores nulos, outliers."
      ],
      "metadata": {
        "id": "3r5ohSiegfQo"
      }
    },
    {
      "cell_type": "code",
      "execution_count": null,
      "metadata": {
        "colab": {
          "base_uri": "https://localhost:8080/"
        },
        "id": "qtl3EDnp0BQO",
        "outputId": "ca1f9bf1-c9ef-46ab-848a-e4bab820af7a"
      },
      "outputs": [
        {
          "name": "stdout",
          "output_type": "stream",
          "text": [
            "\n",
            "============================================================\n",
            "           ANÁLISIS DE VALORES ÚNICOS POR COLUMNA           \n",
            "============================================================\n",
            "\n",
            "\n",
            "COLUMNA 1: start_date_local                      (471 valores únicos)\n",
            "------------------------------------------------------------\n",
            "Primeros 5 valores: ['2022-11-18T08:38:29Z' '2022-11-17T16:06:02Z' '2022-11-15T17:42:54Z'\n",
            " '2022-11-12T08:05:43Z' '2022-11-10T20:22:58Z']\n",
            "Últimos 5 valores: ['2020-08-22T17:11:57Z' '2020-08-16T09:24:57Z' '2020-08-08T11:33:49Z'\n",
            " '2020-08-06T19:09:25Z' '2020-04-13T11:42:10Z']\n",
            "\n",
            "Muestra de valores intermedios: ['2022-11-09T16:24:20Z' '2022-11-08T16:51:57Z' '2022-11-07T14:28:39Z'\n",
            " '2022-11-06T13:04:33Z' '2022-11-05T10:43:44Z']\n",
            "\n",
            "Tipo de dato: object\n",
            "============================================================\n",
            "\n",
            "COLUMNA 2: type                                  (12 valores únicos)\n",
            "------------------------------------------------------------\n",
            "Primeros 5 valores: ['Walk' 'Ride' 'Hike' 'Run' 'Swim']\n",
            "Últimos 5 valores: ['StandUpPaddling' 'EBikeRide' 'Snowboard' 'WeightTraining' 'Workout']\n",
            "\n",
            "Muestra de valores intermedios: ['Surfing' 'Kayaking' 'StandUpPaddling' 'EBikeRide' 'Snowboard']\n",
            "\n",
            "Tipo de dato: object\n",
            "============================================================\n",
            "\n",
            "COLUMNA 3: name                                  (30 valores únicos)\n",
            "------------------------------------------------------------\n",
            "Primeros 5 valores: ['Morning Walk' 'Evening Ride' 'Morning Ride' 'Evening Walk'\n",
            " 'Afternoon Ride']\n",
            "Últimos 5 valores: ['Morning Kayaking' 'Night Run' 'Afternoon WeightTraining'\n",
            " 'Morning Workout' 'Evening Workout']\n",
            "\n",
            "Muestra de valores intermedios: ['Afternoon Hike' 'Afternoon Run' 'Afternoon Walk' 'Afternoon Swim'\n",
            " 'Evening Run']\n",
            "\n",
            "Tipo de dato: object\n",
            "============================================================\n",
            "\n",
            "COLUMNA 4: distance                              (464 valores únicos)\n",
            "------------------------------------------------------------\n",
            "Primeros 5 valores: [  3563.3  30646.5  34271.7 181300.    4251.3]\n",
            "Últimos 5 valores: [ 33421.8 104043.  155344.   21741.4 128058. ]\n",
            "\n",
            "Muestra de valores intermedios: [22213.7 26106.6  6664.6 50679.   7818.6]\n",
            "\n",
            "Tipo de dato: float64\n",
            "Rango: 0.0 - 240426.0\n",
            "============================================================\n",
            "\n",
            "COLUMNA 5: moving_time                           (464 valores únicos)\n",
            "------------------------------------------------------------\n",
            "Primeros 5 valores: [ 2122  5742  5653 28762  3305]\n",
            "Últimos 5 valores: [ 6763 15907 35184  5678 13183]\n",
            "\n",
            "Muestra de valores intermedios: [3718 4875 1250 8435 5891]\n",
            "\n",
            "Tipo de dato: int64\n",
            "Rango: 176 - 44280\n",
            "============================================================\n",
            "\n",
            "COLUMNA 6: total_elevation_gain                  (291 valores únicos)\n",
            "------------------------------------------------------------\n",
            "Primeros 5 valores: [ 99. 130. 118. 808.  70.]\n",
            "Últimos 5 valores: [228.1 429.9 496.9 186.4 491.2]\n",
            "\n",
            "Muestra de valores intermedios: [136. 191.  71. 278. 110.]\n",
            "\n",
            "Tipo de dato: float64\n",
            "Rango: 0.0 - 1905.0\n",
            "============================================================\n",
            "\n",
            "COLUMNA 7: average_speed                         (436 valores únicos)\n",
            "------------------------------------------------------------\n",
            "Primeros 5 valores: [1.679 5.337 6.063 6.303 1.286]\n",
            "Últimos 5 valores: [4.942 6.541 4.415 3.829 9.714]\n",
            "\n",
            "Muestra de valores intermedios: [5.975 5.355 5.332 6.008 1.327]\n",
            "\n",
            "Tipo de dato: float64\n",
            "Rango: 0.0 - 11.357\n",
            "============================================================\n",
            "\n",
            "COLUMNA 8: max_speed                             (325 valores únicos)\n",
            "------------------------------------------------------------\n",
            "Primeros 5 valores: [ 5.622 12.612 10.222 14.963  2.009]\n",
            "Últimos 5 valores: [16.8  11.6  16.3  17.92 31.3 ]\n",
            "\n",
            "Muestra de valores intermedios: [13.664 11.898 14.294 12.335  6.625]\n",
            "\n",
            "Tipo de dato: float64\n",
            "Rango: 0.0 - 31.3\n",
            "============================================================\n",
            "\n",
            "COLUMNA 9: average_heartrate                     (345 valores únicos)\n",
            "------------------------------------------------------------\n",
            "Primeros 5 valores: [100.8 121.1 121.5 149.3  88. ]\n",
            "Últimos 5 valores: [125.6 167.6  59.2  92.   66.2]\n",
            "\n",
            "Muestra de valores intermedios: [129.6 149.  127.8  80.  117.7]\n",
            "\n",
            "Tipo de dato: float64\n",
            "Rango: 59.2 - 175.6\n",
            "============================================================\n",
            "\n",
            "COLUMNA 10: max_heartrate                        (105 valores únicos)\n",
            "------------------------------------------------------------\n",
            "Primeros 5 valores: [130. 166. 167. 179. 141.]\n",
            "Últimos 5 valores: [ 93. 150.  98.  68.  75.]\n",
            "\n",
            "Muestra de valores intermedios: [178. 177. 174. 132.  97.]\n",
            "\n",
            "Tipo de dato: float64\n",
            "Rango: 68.0 - 245.0\n",
            "============================================================\n",
            "\n",
            "~~~~~~~~~~~~~~~~~~~~ANÁLISIS COMPLETADO~~~~~~~~~~~~~~~~~~~~~\n",
            "\n"
          ]
        }
      ],
      "source": [
        "# Análisis de valores únicos por columna\n",
        "print(\"\\n\" + \"=\"*60)\n",
        "print(\"ANÁLISIS DE VALORES ÚNICOS POR COLUMNA\".center(60))\n",
        "print(\"=\"*60 + \"\\n\")\n",
        "\n",
        "for i, columna in enumerate(df.columns, 1):\n",
        "    # Obtener valores únicos\n",
        "    valores_unicos = df[columna].unique()\n",
        "    num_unicos = len(valores_unicos)\n",
        "\n",
        "    # Mostrar información de la columna\n",
        "    print(f\"\\nCOLUMNA {i}: {columna}\".ljust(50) + f\"({num_unicos} valores únicos)\")\n",
        "    print(\"-\"*60)\n",
        "\n",
        "    # Mostrar valores únicos (con formato para listas largas)\n",
        "    if num_unicos <= 10:\n",
        "        print(valores_unicos)\n",
        "    else:\n",
        "        print(f\"Primeros 5 valores: {valores_unicos[:5]}\")\n",
        "        print(f\"Últimos 5 valores: {valores_unicos[-5:]}\")\n",
        "        print(f\"\\nMuestra de valores intermedios: {valores_unicos[5:10]}\" if num_unicos > 10 else \"\")\n",
        "\n",
        "    # Estadísticas adicionales\n",
        "    print(f\"\\nTipo de dato: {df[columna].dtype}\")\n",
        "    if pd.api.types.is_numeric_dtype(df[columna]):\n",
        "        print(f\"Rango: {df[columna].min()} - {df[columna].max()}\")\n",
        "\n",
        "    print(\"=\"*60)\n",
        "\n",
        "print(\"\\n\" + \"ANÁLISIS COMPLETADO\".center(60, \"~\") + \"\\n\")"
      ]
    },
    {
      "cell_type": "code",
      "execution_count": null,
      "metadata": {
        "colab": {
          "base_uri": "https://localhost:8080/"
        },
        "id": "W5wM8mGYa7z_",
        "outputId": "ea20f999-2f04-458b-abfc-6ece2211918b"
      },
      "outputs": [
        {
          "data": {
            "text/plain": [
              "array([ 5.622, 12.612, 10.222, 14.963,  2.009, 13.664, 11.898, 14.294,\n",
              "       12.335,  6.625, 10.722,  3.215,  3.376, 12.326,  5.205, 13.25 ,\n",
              "        4.803, 11.458, 10.87 , 17.746,  3.154,  6.004,  2.846,  3.744,\n",
              "       13.158,  5.405, 17.25 ,  0.635,  2.488, 13.552,  8.936, 16.623,\n",
              "       10.09 ,  9.809,  2.864,  3.318,  2.563, 15.741, 14.884,  2.926,\n",
              "        2.98 ,  6.223,  3.922,  4.538, 14.388, 13.174,  2.622,  2.52 ,\n",
              "       14.706, 13.402,  4.251,  4.17 ,  9.667,  2.586,  4.572, 12.333,\n",
              "       18.076,  2.423, 13.906, 16.602,  4.998, 14.146, 10.508, 11.082,\n",
              "       10.142, 11.638,  3.934, 15.114,  8.62 ,  3.661, 13.308, 13.788,\n",
              "        2.388,  2.63 , 12.708, 10.717,  9.331,  8.294,  3.996, 12.302,\n",
              "        3.423,  2.202,  4.19 ,  3.7  ,  3.724,  3.14 , 13.181, 10.933,\n",
              "       10.367, 13.002, 11.01 , 13.524,  3.737,  3.165,  4.315, 12.187,\n",
              "       14.66 , 16.268, 13.962,  2.581, 11.918,  3.242, 13.132, 16.458,\n",
              "        2.62 ,  1.8  , 18.96 ,  2.123, 13.628, 16.408, 14.013, 14.655,\n",
              "        9.542,  9.228,  2.454, 12.547, 16.752, 13.245,  2.433, 12.822,\n",
              "       12.216, 12.664, 10.487, 13.417,  4.06 ,  2.726,  2.706,  9.924,\n",
              "       12.594,  5.7  ,  2.752, 13.556, 14.104,  4.064, 13.915,  2.266,\n",
              "        9.056,  3.219, 11.314, 15.478,  3.959, 12.43 ,  2.6  , 16.084,\n",
              "        3.53 ,  2.514,  3.894, 10.205,  3.633,  8.864,  7.499, 13.052,\n",
              "        8.233, 12.388,  4.623, 13.592, 10.566,  6.95 , 15.16 ,  3.658,\n",
              "        6.068,  2.546,  8.708,  2.712, 12.032,  9.865, 21.186, 16.958,\n",
              "        2.132,  3.101, 17.922, 16.44 , 16.798,  3.992,  2.248, 10.313,\n",
              "        2.239,  0.   ,  2.219,  2.976,  2.412,  2.517,  3.226,  3.368,\n",
              "        5.059,  3.046, 13.452, 10.43 , 12.426,  2.912, 12.687,  2.986,\n",
              "       14.238, 13.156,  2.991, 10.738,  4.66 ,  2.41 ,  3.354, 11.173,\n",
              "        4.276,  7.234,  4.23 ,  2.93 , 14.636,  8.536, 18.004, 14.428,\n",
              "       12.72 , 10.308, 12.29 , 12.792,  4.508, 12.692,  7.823, 13.208,\n",
              "       13.972,  8.625, 13.116, 15.81 , 12.576, 14.006, 10.5  , 10.6  ,\n",
              "        3.6  , 10.7  , 11.8  , 15.3  ,  2.3  ,  4.4  ,  3.2  ,  3.5  ,\n",
              "        3.3  ,  6.4  ,  1.9  ,  4.   ,  5.1  ,  2.4  ,  4.7  ,  3.   ,\n",
              "        2.9  ,  2.7  ,  3.1  ,  2.   ,  2.1  ,  4.1  ,  2.2  ,  3.8  ,\n",
              "        7.1  , 13.3  , 14.9  , 11.5  , 13.5  , 16.1  ,  9.5  , 16.4  ,\n",
              "        9.4  , 12.8  , 11.3  , 18.1  , 12.6  , 14.3  , 16.6  , 11.7  ,\n",
              "       17.5  ,  3.4  , 15.4  , 13.   ,  8.9  , 16.   , 13.1  ,  4.5  ,\n",
              "        3.9  ,  9.   , 12.2  , 16.5  ,  1.   , 11.1  , 13.4  , 14.5  ,\n",
              "       10.   , 15.6  ,  9.3  , 14.8  ,  7.4  , 15.2  ,  4.3  ,  2.5  ,\n",
              "       13.2  , 14.2  ,  8.4  , 14.1  , 15.8  , 16.7  , 12.3  , 12.1  ,\n",
              "       15.   , 12.5  , 16.9  ,  6.2  , 17.1  , 14.   , 13.6  ,  8.   ,\n",
              "       14.7  ,  4.2  ,  4.9  ,  2.8  , 11.9  , 12.9  , 13.8  ,  6.   ,\n",
              "       15.5  ,  8.2  ,  9.9  , 14.6  ,  5.   , 15.7  , 17.7  , 16.2  ,\n",
              "       16.8  , 11.6  , 16.3  , 17.92 , 31.3  ])"
            ]
          },
          "execution_count": 13,
          "metadata": {},
          "output_type": "execute_result"
        }
      ],
      "source": [
        "df.max_speed.unique()"
      ]
    },
    {
      "cell_type": "markdown",
      "metadata": {
        "id": "Ynfv9LmnbWmQ"
      },
      "source": []
    },
    {
      "cell_type": "markdown",
      "metadata": {
        "id": "wKB7aeI-bX15"
      },
      "source": [
        "# Limpieza"
      ]
    },
    {
      "cell_type": "markdown",
      "metadata": {
        "id": "w96dw6VFbcHZ"
      },
      "source": [
        "verificar datos porcentaje de datos faltantes"
      ]
    },
    {
      "cell_type": "code",
      "execution_count": null,
      "metadata": {
        "colab": {
          "base_uri": "https://localhost:8080/",
          "height": 563
        },
        "id": "VtRTq7aBuV1B",
        "outputId": "2b0e979a-7dfa-4e55-97c5-62fcb1cfa268"
      },
      "outputs": [
        {
          "data": {
            "image/png": "[encoded data removed]",
            "text/plain": [
              "<Figure size 640x480 with 1 Axes>"
            ]
          },
          "metadata": {},
          "output_type": "display_data"
        }
      ],
      "source": [
        "sns.heatmap(df.isna(), cbar=False, cmap='viridis')\n",
        "plt.show()"
      ]
    },
    {
      "cell_type": "code",
      "execution_count": null,
      "metadata": {
        "colab": {
          "base_uri": "https://localhost:8080/"
        },
        "id": "SLDASwwBuchq",
        "outputId": "c454dcbe-3aad-4b7f-80f9-c806b9738fb9"
      },
      "outputs": [
        {
          "name": "stdout",
          "output_type": "stream",
          "text": [
            "| Columna              |   % Faltante |\n",
            "|----------------------|--------------|\n",
            "| start_date_local     |            0 |\n",
            "| type                 |            0 |\n",
            "| name                 |            0 |\n",
            "| distance             |            0 |\n",
            "| moving_time          |            0 |\n",
            "| total_elevation_gain |            0 |\n",
            "| average_speed        |            0 |\n",
            "| max_speed            |            0 |\n",
            "| average_heartrate    |        10.11 |\n",
            "| max_heartrate        |        10.11 |\n"
          ]
        }
      ],
      "source": [
        "# Crear una lista de tuplas con los resultados\n",
        "results = []\n",
        "for col in df.columns:\n",
        "    pct_missing = np.mean(df[col].isnull()) * 100\n",
        "    results.append((col, round(pct_missing, 2)))\n",
        "\n",
        "# Convertir a DataFrame para mejor formato\n",
        "results_df = pd.DataFrame(results, columns=['Columna', '% Faltante'])\n",
        "\n",
        "# Imprimir como tabla Markdown\n",
        "print(results_df.to_markdown(index=False, tablefmt=\"github\", stralign=\"left\", numalign=\"right\"))"
      ]
    },
    {
      "cell_type": "markdown",
      "metadata": {
        "id": "npM8afpCv8H2"
      },
      "source": [
        "## Código para Identificar y Mostrar Datos Nulos"
      ]
    },
    {
      "cell_type": "code",
      "execution_count": null,
      "metadata": {
        "id": "xPBleMg5wTur"
      },
      "outputs": [],
      "source": [
        "# Filtrar filas con valores nulos en las columnas de frecuencia cardíaca\n",
        "null_heartrate = df[df['average_heartrate'].isna() | df['max_heartrate'].isna()]\n",
        "\n",
        "# Mostrar tabla con Markdown\n",
        "if not null_heartrate.empty:\n",
        "    display(Markdown(\"### Registros con valores nulos en frecuencia cardíaca\"))\n",
        "    display(Markdown(null_heartrate.to_markdown()))\n",
        "else:\n",
        "    display(Markdown(\"No hay valores nulos en las columnas de frecuencia cardíaca.\"))\n",
        "\n",
        "# Estadísticas de nulos\n",
        "display(Markdown(f\"**Total de registros nulos:** {null_heartrate.shape[0]}\"))\n",
        "display(Markdown(f\"**Porcentaje de nulos:** {null_heartrate.shape[0]/df.shape[0]*100:.2f}%\"))"
      ]
    },
    {
      "cell_type": "markdown",
      "metadata": {
        "id": "7VyG176J0kh4"
      },
      "source": [
        "## 1. Análisis por Tipo de Actividad\n",
        "      \n",
        "  Identificar si los valores nulos están concentrados en ciertos tipos de actividades donde quizás no se registra frecuencia cardíaca (como WeightTraining o Swimming)\n",
        "\n",
        "  Determinar si hay patrones por actividad que justifiquen mantener los nulos o imputarlos"
      ]
    },
    {
      "cell_type": "code",
      "execution_count": null,
      "metadata": {
        "colab": {
          "base_uri": "https://localhost:8080/",
          "height": 769
        },
        "id": "dpP9U5H7078I",
        "outputId": "c84ed80c-916a-44e5-dddb-e4725bf29fe8"
      },
      "outputs": [
        {
          "data": {
            "text/markdown": [
              "## Análisis Combinado de Valores Nulos en Métricas Cardíacas"
            ],
            "text/plain": [
              "<IPython.core.display.Markdown object>"
            ]
          },
          "metadata": {},
          "output_type": "display_data"
        },
        {
          "data": {
            "text/markdown": [
              "### Distribución por Tipo de Actividad (average_heartrate OR max_heartrate)"
            ],
            "text/plain": [
              "<IPython.core.display.Markdown object>"
            ]
          },
          "metadata": {},
          "output_type": "display_data"
        },
        {
          "data": {
            "text/markdown": [
              "| type            |   Total Actividades |   Registros con Nulos |   % Nulos |\n",
              "|:----------------|--------------------:|----------------------:|----------:|\n",
              "| EBikeRide       |                   3 |                     2 |     66.67 |\n",
              "| Ride            |                 297 |                    52 |     17.51 |\n",
              "| Walk            |                 116 |                     1 |      0.86 |\n",
              "| Hike            |                  67 |                     0 |      0    |\n",
              "| Run             |                  31 |                     0 |      0    |\n",
              "| Snowboard       |                   8 |                     0 |      0    |\n",
              "| Workout         |                   6 |                     0 |      0    |\n",
              "| WeightTraining  |                   6 |                     0 |      0    |\n",
              "| Kayaking        |                   5 |                     0 |      0    |\n",
              "| Swim            |                   2 |                     0 |      0    |\n",
              "| Surfing         |                   2 |                     0 |      0    |\n",
              "| StandUpPaddling |                   1 |                     0 |      0    |"
            ],
            "text/plain": [
              "<IPython.core.display.Markdown object>"
            ]
          },
          "metadata": {},
          "output_type": "display_data"
        },
        {
          "data": {
            "text/markdown": [
              "\n",
              "### Estadísticas Individuales por Variable"
            ],
            "text/plain": [
              "<IPython.core.display.Markdown object>"
            ]
          },
          "metadata": {},
          "output_type": "display_data"
        },
        {
          "data": {
            "text/markdown": [
              "|                   |   total_nulos |   porcentaje_nulos |\n",
              "|:------------------|--------------:|-------------------:|\n",
              "| average_heartrate |            55 |              10.11 |\n",
              "| max_heartrate     |            55 |              10.11 |"
            ],
            "text/plain": [
              "<IPython.core.display.Markdown object>"
            ]
          },
          "metadata": {},
          "output_type": "display_data"
        },
        {
          "data": {
            "text/markdown": [
              "\n",
              "**Resumen Estadístico:**"
            ],
            "text/plain": [
              "<IPython.core.display.Markdown object>"
            ]
          },
          "metadata": {},
          "output_type": "display_data"
        },
        {
          "data": {
            "text/markdown": [
              "- Actividades con datos completos (0% nulos): 9"
            ],
            "text/plain": [
              "<IPython.core.display.Markdown object>"
            ]
          },
          "metadata": {},
          "output_type": "display_data"
        },
        {
          "data": {
            "text/markdown": [
              "- Actividad con mayor % de nulos: EBikeRide (66.67%)"
            ],
            "text/plain": [
              "<IPython.core.display.Markdown object>"
            ]
          },
          "metadata": {},
          "output_type": "display_data"
        },
        {
          "data": {
            "text/markdown": [
              "- Total registros analizados: 544"
            ],
            "text/plain": [
              "<IPython.core.display.Markdown object>"
            ]
          },
          "metadata": {},
          "output_type": "display_data"
        },
        {
          "data": {
            "text/markdown": [
              "- Registros con al menos un valor nulo: 55"
            ],
            "text/plain": [
              "<IPython.core.display.Markdown object>"
            ]
          },
          "metadata": {},
          "output_type": "display_data"
        }
      ],
      "source": [
        "def analizar_nulos_frecuencia_cardiaca(df):\n",
        "    \"\"\"Función optimizada para analizar nulos en ambas variables cardíacas\"\"\"\n",
        "\n",
        "    # Configuración inicial\n",
        "    pd.set_option('display.max_rows', None)\n",
        "    vars_cardiacas = ['average_heartrate', 'max_heartrate']\n",
        "\n",
        "    # Análisis combinado para ambas variables\n",
        "    df['cardiac_nulls'] = df[vars_cardiacas].isnull().any(axis=1)\n",
        "\n",
        "    # Conteo por tipo de actividad\n",
        "    null_by_type = df['type'][df['cardiac_nulls']].value_counts()\n",
        "    total_by_type = df['type'].value_counts()\n",
        "\n",
        "    # DataFrame de resultados\n",
        "    result_df = pd.DataFrame({\n",
        "        'Total Actividades': total_by_type,\n",
        "        'Registros con Nulos': null_by_type.reindex(total_by_type.index, fill_value=0),\n",
        "        '% Nulos': (null_by_type.reindex(total_by_type.index, fill_value=0) / total_by_type * 100).round(2)\n",
        "    }).sort_values('% Nulos', ascending=False)\n",
        "\n",
        "    # Análisis individual por variable\n",
        "    individual_stats = {}\n",
        "    for var in vars_cardiacas:\n",
        "        individual_stats[var] = {\n",
        "            'total_nulos': df[var].isna().sum(),\n",
        "            'porcentaje_nulos': (df[var].isna().mean() * 100).round(2)\n",
        "        }\n",
        "\n",
        "    # Visualización\n",
        "    display(Markdown(\"## Análisis Combinado de Valores Nulos en Métricas Cardíacas\"))\n",
        "    display(Markdown(\"### Distribución por Tipo de Actividad (average_heartrate OR max_heartrate)\"))\n",
        "    display(Markdown(result_df.to_markdown()))\n",
        "\n",
        "    display(Markdown(\"\\n### Estadísticas Individuales por Variable\"))\n",
        "    stats_df = pd.DataFrame(individual_stats).T\n",
        "    display(Markdown(stats_df.to_markdown()))\n",
        "\n",
        "    display(Markdown(\"\\n**Resumen Estadístico:**\"))\n",
        "    display(Markdown(f\"- Actividades con datos completos (0% nulos): {(result_df['% Nulos'] == 0).sum()}\"))\n",
        "    display(Markdown(f\"- Actividad con mayor % de nulos: {result_df.index[0]} ({result_df.iloc[0, 2]}%)\"))\n",
        "    display(Markdown(f\"- Total registros analizados: {len(df)}\"))\n",
        "    display(Markdown(f\"- Registros con al menos un valor nulo: {df['cardiac_nulls'].sum()}\"))\n",
        "\n",
        "    return result_df\n",
        "\n",
        "# Ejecutar la función\n",
        "resultados = analizar_nulos_frecuencia_cardiaca(df)"
      ]
    },
    {
      "cell_type": "markdown",
      "metadata": {
        "id": "XpB9lb0fD6zv"
      },
      "source": [
        "## Visualización del Análisis de Valores Nulos\n",
        "  A continuación presento un segmento de visualización completo que complementa el análisis previo, mostrando los patrones de valores nulos de manera gráfica:"
      ]
    },
    {
      "cell_type": "code",
      "execution_count": null,
      "metadata": {
        "colab": {
          "base_uri": "https://localhost:8080/",
          "height": 724
        },
        "id": "uTdcL6wKECu0",
        "outputId": "9fd83c28-db91-42f5-8fcd-e19d4a6a3905"
      },
      "outputs": [
        {
          "data": {
            "image/png": "[encoded data removed]",
            "text/plain": [
              "<Figure size 1200x720 with 1 Axes>"
            ]
          },
          "metadata": {},
          "output_type": "display_data"
        }
      ],
      "source": [
        "plt.figure(figsize=(10, 6))\n",
        "null_analysis = resultados.sort_values('% Nulos', ascending=True)\n",
        "bars = plt.barh(null_analysis.index, null_analysis['% Nulos'],\n",
        "               color=sns.color_palette(\"rocket_r\", len(null_analysis)))\n",
        "\n",
        "plt.title('Porcentaje de Valores Nulos en Frecuencia Cardíaca\\npor Tipo de Actividad', pad=15)\n",
        "plt.xlabel('% de Registros con Nulos')\n",
        "plt.gca().bar_label(bars, fmt='%.1f%%', padding=3)\n",
        "sns.despine()\n",
        "plt.tight_layout()\n",
        "plt.show()"
      ]
    },
    {
      "cell_type": "markdown",
      "metadata": {
        "id": "ct53yLKbInc2"
      },
      "source": [
        "## Estrategia Óptima para Tratar Valores Nulos\n",
        "  Basado en el análisis realizado, recomiendo una estrategia diferenciada por tipo de actividad:\n",
        "  1. Para EBikeRide (66.67% nulos)\n",
        "Acción: Eliminar estas observaciones del análisis cardíaco\n",
        "\n",
        " Razón:\n",
        " - Demasiados valores faltantes (2 de 3 registros)\n",
        " - Posiblemente no se mide FC en esta actividad\n",
        " - No es confiable hacer imputación con tan pocos datos\n",
        "\n",
        "2. Para Ride (17.51% nulos)\n",
        "Acción: Imputación avanzada por grupos\n",
        "3. Para Walk (0.86% nulos)\n",
        "Acción: Imputación simple\n",
        "4. Para actividades con 0% nulos\n",
        "Acción: No requiere tratamiento\n",
        " Razón: Datos completos y confiables\n",
        "\n",
        "## Proceso Recomendado Paso a Paso:\n",
        "1. Primero eliminar\n",
        "2. Luego imputar\n",
        "3. Verificar resultados\n",
        "\n",
        "##Consideraciones Adicionales:\n",
        "1. Para max_heartrate:\n",
        "Aplicar la misma estrategia que para average_heartrate\n",
        " Considerar imputar basado en relación con average_heartrate cuando sea posible\n",
        "2. Validación:\n",
        "Comparar estadísticas descriptivas antes/después de imputación\n",
        "Verificar que la distribución no se haya distorsionado\n"
      ]
    },
    {
      "cell_type": "code",
      "execution_count": null,
      "metadata": {
        "colab": {
          "base_uri": "https://localhost:8080/"
        },
        "id": "X_scuxHDLcT-",
        "outputId": "40afa561-6502-41cf-d951-d3c3febef71f"
      },
      "outputs": [
        {
          "name": "stdout",
          "output_type": "stream",
          "text": [
            "\n",
            "Resumen de limpieza:\n",
            "Registros originales: 544\n",
            "Registros limpios: 541\n",
            "Nulos en average_heartrate: 0\n",
            "Nulos en max_heartrate: 0\n"
          ]
        }
      ],
      "source": [
        "def create_clean_dataframe(df_original):\n",
        "    \"\"\"\n",
        "    Crea un DataFrame limpio sin modificar el original\n",
        "    \"\"\"\n",
        "    # Crear copia profunda independiente\n",
        "    df_clean = df_original.copy(deep=True)\n",
        "\n",
        "    ## 1. Eliminar EBikeRide (alta tasa de nulos)\n",
        "    df_clean = df_clean[df_clean['type'] != 'EBikeRide'].copy()\n",
        "\n",
        "    ## 2. Definir función de imputación segura\n",
        "    def safe_impute(df, activity_type, target_col):\n",
        "        # Filtrar por tipo de actividad\n",
        "        activity_data = df[df['type'] == activity_type].copy()\n",
        "\n",
        "        # Crear grupos de intensidad solo si hay datos\n",
        "        if not activity_data.empty:\n",
        "            activity_data['intensity_group'] = pd.qcut(\n",
        "                activity_data['average_speed'],\n",
        "                q=4,\n",
        "                labels=['baja', 'media', 'alta', 'muy alta'],\n",
        "                duplicates='drop'\n",
        "            )\n",
        "\n",
        "            # Calcular medianas por grupo de forma segura\n",
        "            group_medians = activity_data.groupby('intensity_group', observed=True)[target_col].median()\n",
        "\n",
        "            # Imputar valores\n",
        "            for group_name, group_value in group_medians.items():\n",
        "                mask = (df['type'] == activity_type) & \\\n",
        "                       (df[target_col].isna()) & \\\n",
        "                       (df['intensity_group'] == group_name)\n",
        "                df.loc[mask, target_col] = group_value\n",
        "\n",
        "        return df\n",
        "\n",
        "    ## 3. Proceso de limpieza paso a paso\n",
        "\n",
        "    # Primero crear grupos de intensidad para todas las actividades relevantes\n",
        "    ride_mask = df_clean['type'] == 'Ride'\n",
        "    df_clean.loc[ride_mask, 'intensity_group'] = pd.qcut(\n",
        "        df_clean[ride_mask]['average_speed'],\n",
        "        q=4,\n",
        "        labels=['baja', 'media', 'alta', 'muy alta'],\n",
        "        duplicates='drop'\n",
        "    )\n",
        "\n",
        "    # Imputar average_heartrate\n",
        "    df_clean = safe_impute(df_clean, 'Ride', 'average_heartrate')\n",
        "\n",
        "    # Imputación simple para Walk (no necesita grupos)\n",
        "    walk_median = df_clean[df_clean['type'] == 'Walk']['average_heartrate'].median()\n",
        "    walk_nulls = (df_clean['type'] == 'Walk') & df_clean['average_heartrate'].isna()\n",
        "    df_clean.loc[walk_nulls, 'average_heartrate'] = walk_median\n",
        "\n",
        "    # Imputar max_heartrate basado en average_heartrate\n",
        "    # Primero imputamos como hicimos con average_heartrate\n",
        "    df_clean = safe_impute(df_clean, 'Ride', 'max_heartrate')\n",
        "\n",
        "    # Para Walk\n",
        "    walk_max_median = df_clean[df_clean['type'] == 'Walk']['max_heartrate'].median()\n",
        "    df_clean.loc[walk_nulls, 'max_heartrate'] = walk_max_median\n",
        "\n",
        "    # Luego para registros donde max_heartrate es nulo pero average_heartrate existe\n",
        "    valid_pairs = df_clean[['average_heartrate', 'max_heartrate']].dropna()\n",
        "    if not valid_pairs.empty:\n",
        "        ratio = (valid_pairs['max_heartrate'] / valid_pairs['average_heartrate']).median()\n",
        "        max_null_mask = df_clean['max_heartrate'].isna() & df_clean['average_heartrate'].notna()\n",
        "        df_clean.loc[max_null_mask, 'max_heartrate'] = df_clean.loc[max_null_mask, 'average_heartrate'] * ratio\n",
        "\n",
        "    # Eliminar columna temporal\n",
        "    df_clean.drop('intensity_group', axis=1, inplace=True, errors='ignore')\n",
        "\n",
        "    return df_clean\n",
        "\n",
        "# Uso del método\n",
        "df_clean = create_clean_dataframe(df)\n",
        "\n",
        "# Verificación\n",
        "print(\"\\nResumen de limpieza:\")\n",
        "print(f\"Registros originales: {len(df)}\")\n",
        "print(f\"Registros limpios: {len(df_clean)}\")\n",
        "print(f\"Nulos en average_heartrate: {df_clean['average_heartrate'].isna().sum()}\")\n",
        "print(f\"Nulos en max_heartrate: {df_clean['max_heartrate'].isna().sum()}\")"
      ]
    },
    {
      "cell_type": "markdown",
      "metadata": {
        "id": "lIkSaJWcO2Dc"
      },
      "source": [
        "## Análisis Post-Limpieza con Visualización Comparativa\n",
        "Objetivo: analizar y comparar los resultados antes y después de la limpieza:"
      ]
    },
    {
      "cell_type": "code",
      "execution_count": null,
      "metadata": {
        "colab": {
          "base_uri": "https://localhost:8080/",
          "height": 1000
        },
        "id": "7V6Ppe0mO3Lc",
        "outputId": "17f5122b-688a-4a09-ea9c-886460a1075e"
      },
      "outputs": [
        {
          "data": {
            "text/markdown": [
              "# ANÁLISIS COMPARATIVO: ANTES Y DESPUÉS DE LA LIMPIEZA"
            ],
            "text/plain": [
              "<IPython.core.display.Markdown object>"
            ]
          },
          "metadata": {},
          "output_type": "display_data"
        },
        {
          "data": {
            "text/markdown": [
              "## Datos Originales"
            ],
            "text/plain": [
              "<IPython.core.display.Markdown object>"
            ]
          },
          "metadata": {},
          "output_type": "display_data"
        },
        {
          "data": {
            "text/markdown": [
              "### Estado Original"
            ],
            "text/plain": [
              "<IPython.core.display.Markdown object>"
            ]
          },
          "metadata": {},
          "output_type": "display_data"
        },
        {
          "data": {
            "text/markdown": [
              "#### Distribución por Tipo de Actividad"
            ],
            "text/plain": [
              "<IPython.core.display.Markdown object>"
            ]
          },
          "metadata": {},
          "output_type": "display_data"
        },
        {
          "data": {
            "text/markdown": [
              "| type            |   Total |   Con Nulos |   % Nulos |\n",
              "|:----------------|--------:|------------:|----------:|\n",
              "| EBikeRide       |       3 |           2 |     66.67 |\n",
              "| Ride            |     297 |          52 |     17.51 |\n",
              "| Walk            |     116 |           1 |      0.86 |\n",
              "| Hike            |      67 |           0 |      0    |\n",
              "| Run             |      31 |           0 |      0    |\n",
              "| Snowboard       |       8 |           0 |      0    |\n",
              "| Workout         |       6 |           0 |      0    |\n",
              "| WeightTraining  |       6 |           0 |      0    |\n",
              "| Kayaking        |       5 |           0 |      0    |\n",
              "| Swim            |       2 |           0 |      0    |\n",
              "| Surfing         |       2 |           0 |      0    |\n",
              "| StandUpPaddling |       1 |           0 |      0    |"
            ],
            "text/plain": [
              "<IPython.core.display.Markdown object>"
            ]
          },
          "metadata": {},
          "output_type": "display_data"
        },
        {
          "data": {
            "text/markdown": [
              "\n",
              "#### Estadísticas por Variable"
            ],
            "text/plain": [
              "<IPython.core.display.Markdown object>"
            ]
          },
          "metadata": {},
          "output_type": "display_data"
        },
        {
          "data": {
            "text/markdown": [
              "|                   |   Total Nulos |   % Nulos |\n",
              "|:------------------|--------------:|----------:|\n",
              "| average_heartrate |            55 |     10.11 |\n",
              "| max_heartrate     |            55 |     10.11 |"
            ],
            "text/plain": [
              "<IPython.core.display.Markdown object>"
            ]
          },
          "metadata": {},
          "output_type": "display_data"
        },
        {
          "data": {
            "text/markdown": [
              "\n",
              "## Datos Limpios"
            ],
            "text/plain": [
              "<IPython.core.display.Markdown object>"
            ]
          },
          "metadata": {},
          "output_type": "display_data"
        },
        {
          "data": {
            "text/markdown": [
              "### Post-Limpieza"
            ],
            "text/plain": [
              "<IPython.core.display.Markdown object>"
            ]
          },
          "metadata": {},
          "output_type": "display_data"
        },
        {
          "data": {
            "text/markdown": [
              "#### Distribución por Tipo de Actividad"
            ],
            "text/plain": [
              "<IPython.core.display.Markdown object>"
            ]
          },
          "metadata": {},
          "output_type": "display_data"
        },
        {
          "data": {
            "text/markdown": [
              "| type            |   Total |   Con Nulos |   % Nulos |\n",
              "|:----------------|--------:|------------:|----------:|\n",
              "| Ride            |     297 |           0 |         0 |\n",
              "| Walk            |     116 |           0 |         0 |\n",
              "| Hike            |      67 |           0 |         0 |\n",
              "| Run             |      31 |           0 |         0 |\n",
              "| Snowboard       |       8 |           0 |         0 |\n",
              "| WeightTraining  |       6 |           0 |         0 |\n",
              "| Workout         |       6 |           0 |         0 |\n",
              "| Kayaking        |       5 |           0 |         0 |\n",
              "| Swim            |       2 |           0 |         0 |\n",
              "| Surfing         |       2 |           0 |         0 |\n",
              "| StandUpPaddling |       1 |           0 |         0 |"
            ],
            "text/plain": [
              "<IPython.core.display.Markdown object>"
            ]
          },
          "metadata": {},
          "output_type": "display_data"
        },
        {
          "data": {
            "text/markdown": [
              "\n",
              "#### Estadísticas por Variable"
            ],
            "text/plain": [
              "<IPython.core.display.Markdown object>"
            ]
          },
          "metadata": {},
          "output_type": "display_data"
        },
        {
          "data": {
            "text/markdown": [
              "|                   |   Total Nulos |   % Nulos |\n",
              "|:------------------|--------------:|----------:|\n",
              "| average_heartrate |             0 |         0 |\n",
              "| max_heartrate     |             0 |         0 |"
            ],
            "text/plain": [
              "<IPython.core.display.Markdown object>"
            ]
          },
          "metadata": {},
          "output_type": "display_data"
        },
        {
          "data": {
            "text/markdown": [
              "\n",
              "## Resumen Comparativo"
            ],
            "text/plain": [
              "<IPython.core.display.Markdown object>"
            ]
          },
          "metadata": {},
          "output_type": "display_data"
        },
        {
          "data": {
            "text/markdown": [
              "| type            |   Original (% Nulos) |   Limpio (% Nulos) |   Reducción |\n",
              "|:----------------|---------------------:|-------------------:|------------:|\n",
              "| EBikeRide       |                66.67 |                  0 |       66.67 |\n",
              "| Ride            |                17.51 |                  0 |       17.51 |\n",
              "| Walk            |                 0.86 |                  0 |        0.86 |\n",
              "| Hike            |                 0    |                  0 |        0    |\n",
              "| Run             |                 0    |                  0 |        0    |\n",
              "| Snowboard       |                 0    |                  0 |        0    |\n",
              "| Workout         |                 0    |                  0 |        0    |\n",
              "| WeightTraining  |                 0    |                  0 |        0    |\n",
              "| Kayaking        |                 0    |                  0 |        0    |\n",
              "| Swim            |                 0    |                  0 |        0    |\n",
              "| Surfing         |                 0    |                  0 |        0    |\n",
              "| StandUpPaddling |                 0    |                  0 |        0    |"
            ],
            "text/plain": [
              "<IPython.core.display.Markdown object>"
            ]
          },
          "metadata": {},
          "output_type": "display_data"
        },
        {
          "data": {
            "text/markdown": [
              "\n",
              "### Estadísticas Globales"
            ],
            "text/plain": [
              "<IPython.core.display.Markdown object>"
            ]
          },
          "metadata": {},
          "output_type": "display_data"
        },
        {
          "data": {
            "text/markdown": [
              "|    | Metrica             |   Original |   Limpio |\n",
              "|---:|:--------------------|-----------:|---------:|\n",
              "|  0 | Total registros     |     544.00 |   541.00 |\n",
              "|  1 | Registros con nulos |      55.00 |     0.00 |\n",
              "|  2 | % Nulos promedio    |      10.11 |     0.00 |"
            ],
            "text/plain": [
              "<IPython.core.display.Markdown object>"
            ]
          },
          "metadata": {},
          "output_type": "display_data"
        }
      ],
      "source": [
        "def analizar_comparativo(df_original, df_clean):\n",
        "    \"\"\"\n",
        "    Realiza análisis comparativo entre el DataFrame original y el limpio\n",
        "    \"\"\"\n",
        "    # Configuración de visualización\n",
        "    pd.set_option('display.max_rows', None)\n",
        "\n",
        "    # Función modificada para análisis individual\n",
        "    def analizar_nulos(df, label):\n",
        "        vars_cardiacas = ['average_heartrate', 'max_heartrate']\n",
        "        df['cardiac_nulls'] = df[vars_cardiacas].isnull().any(axis=1)\n",
        "\n",
        "        null_by_type = df['type'][df['cardiac_nulls']].value_counts()\n",
        "        total_by_type = df['type'].value_counts()\n",
        "\n",
        "        result_df = pd.DataFrame({\n",
        "            'Total': total_by_type,\n",
        "            'Con Nulos': null_by_type.reindex(total_by_type.index, fill_value=0),\n",
        "            '% Nulos': (null_by_type.reindex(total_by_type.index, fill_value=0) / total_by_type * 100).round(2)\n",
        "        }).sort_values('% Nulos', ascending=False)\n",
        "\n",
        "        individual_stats = {}\n",
        "        for var in vars_cardiacas:\n",
        "            individual_stats[var] = {\n",
        "                'Total Nulos': df[var].isna().sum(),\n",
        "                '% Nulos': (df[var].isna().mean() * 100).round(2)\n",
        "            }\n",
        "\n",
        "        display(Markdown(f\"### {label}\"))\n",
        "        display(Markdown(\"#### Distribución por Tipo de Actividad\"))\n",
        "        display(Markdown(result_df.to_markdown()))\n",
        "\n",
        "        display(Markdown(\"\\n#### Estadísticas por Variable\"))\n",
        "        display(Markdown(pd.DataFrame(individual_stats).T.to_markdown()))\n",
        "\n",
        "        return result_df\n",
        "\n",
        "    # Análisis original\n",
        "    display(Markdown(\"# ANÁLISIS COMPARATIVO: ANTES Y DESPUÉS DE LA LIMPIEZA\"))\n",
        "    display(Markdown(\"## Datos Originales\"))\n",
        "    orig_results = analizar_nulos(df_original, \"Estado Original\")\n",
        "\n",
        "    # Análisis limpio\n",
        "    display(Markdown(\"\\n## Datos Limpios\"))\n",
        "    clean_results = analizar_nulos(df_clean, \"Post-Limpieza\")\n",
        "\n",
        "    # Análisis comparativo\n",
        "    display(Markdown(\"\\n## Resumen Comparativo\"))\n",
        "    comparison = pd.DataFrame({\n",
        "        'Original (% Nulos)': orig_results['% Nulos'],\n",
        "        'Limpio (% Nulos)': clean_results['% Nulos'].reindex(orig_results.index, fill_value=0),\n",
        "        'Reducción': (orig_results['% Nulos'] - clean_results['% Nulos'].reindex(orig_results.index, fill_value=0)).round(2)\n",
        "    })\n",
        "    display(Markdown(comparison.to_markdown()))\n",
        "\n",
        "    # Estadísticas globales\n",
        "    display(Markdown(\"\\n### Estadísticas Globales\"))\n",
        "    global_stats = pd.DataFrame({\n",
        "        'Metrica': ['Total registros', 'Registros con nulos', '% Nulos promedio'],\n",
        "        'Original': [\n",
        "            len(df_original),\n",
        "            df_original[['average_heartrate', 'max_heartrate']].isnull().any(axis=1).sum(),\n",
        "            (df_original[['average_heartrate', 'max_heartrate']].isnull().any(axis=1).mean() * 100).round(2)\n",
        "        ],\n",
        "        'Limpio': [\n",
        "            len(df_clean),\n",
        "            df_clean[['average_heartrate', 'max_heartrate']].isnull().any(axis=1).sum(),\n",
        "            (df_clean[['average_heartrate', 'max_heartrate']].isnull().any(axis=1).mean() * 100).round(2)\n",
        "        ]\n",
        "    })\n",
        "    display(Markdown(global_stats.to_markdown(floatfmt=\".2f\")))\n",
        "\n",
        "# Ejecutar el análisis comparativo\n",
        "analizar_comparativo(df, df_clean)"
      ]
    }
  ],
  "metadata": {
    "colab": {
      "provenance": [],
      "include_colab_link": true
    },
    "kernelspec": {
      "display_name": "Python 3",
      "name": "python3"
    },
    "language_info": {
      "codemirror_mode": {
        "name": "ipython",
        "version": 3
      },
      "file_extension": ".py",
      "mimetype": "text/x-python",
      "name": "python",
      "nbconvert_exporter": "python",
      "pygments_lexer": "ipython3",
      "version": "3.12.9"
    }
  },
  "nbformat": 4,
  "nbformat_minor": 0
}